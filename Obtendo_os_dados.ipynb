{
  "nbformat": 4,
  "nbformat_minor": 0,
  "metadata": {
    "colab": {
      "name": " Obtendo os dados - Semana Data Science.ipynb",
      "provenance": [],
      "authorship_tag": "ABX9TyMtZmrAtMLVvXnzuBagOW3o",
      "include_colab_link": true
    },
    "kernelspec": {
      "name": "python3",
      "display_name": "Python 3"
    }
  },
  "cells": [
    {
      "cell_type": "markdown",
      "metadata": {
        "id": "view-in-github",
        "colab_type": "text"
      },
      "source": [
        "<a href=\"https://colab.research.google.com/github/JonathanKBP/Analise-de-jogadores-da-fifa-Data-Science/blob/main/Obtendo_os_dados.ipynb\" target=\"_parent\"><img src=\"https://colab.research.google.com/assets/colab-badge.svg\" alt=\"Open In Colab\"/></a>"
      ]
    },
    {
      "cell_type": "markdown",
      "metadata": {
        "id": "Me8Z5jHwlhBJ"
      },
      "source": [
        "# **Importando bibliotecas**\r\n",
        "\r\n",
        "Na próxima célula está sendo importados as bibliotecas para extrair os dados do site so fifa."
      ]
    },
    {
      "cell_type": "code",
      "metadata": {
        "id": "jMvrevkdaIx3"
      },
      "source": [
        "# dataframes e manipulações\r\n",
        "import pandas as pd\r\n",
        "# requisitar dados do site\r\n",
        "import requests\r\n",
        "\r\n",
        "# inspecionar html\r\n",
        "from bs4 import BeautifulSoup"
      ],
      "execution_count": 22,
      "outputs": []
    },
    {
      "cell_type": "markdown",
      "metadata": {
        "id": "evYh2ZX2mJXj"
      },
      "source": [
        "# **Obter os dados dos jogadores**"
      ]
    },
    {
      "cell_type": "code",
      "metadata": {
        "id": "It2QNqVqmVzA"
      },
      "source": [
        "url = 'https://sofifa.com/players?offset='"
      ],
      "execution_count": 23,
      "outputs": []
    },
    {
      "cell_type": "markdown",
      "metadata": {
        "id": "yczk2-MmntZr"
      },
      "source": [
        "*   **Criar dataframe**"
      ]
    },
    {
      "cell_type": "code",
      "metadata": {
        "id": "U6yJoaqhm820"
      },
      "source": [
        "colunas = ['Nome', 'Idade', 'Posicao', 'Media', 'Potencial', 'Time', 'Salario', 'Total_Pontos']"
      ],
      "execution_count": 24,
      "outputs": []
    },
    {
      "cell_type": "code",
      "metadata": {
        "id": "djbz7z4QnjvB"
      },
      "source": [
        "dados = pd.DataFrame(columns=colunas)"
      ],
      "execution_count": 25,
      "outputs": []
    },
    {
      "cell_type": "code",
      "metadata": {
        "colab": {
          "base_uri": "https://localhost:8080/",
          "height": 49
        },
        "id": "thXJpZEzoPtM",
        "outputId": "98a40fb3-3433-4a89-d150-2b2137864d18"
      },
      "source": [
        "dados.head()"
      ],
      "execution_count": 26,
      "outputs": [
        {
          "output_type": "execute_result",
          "data": {
            "text/html": [
              "<div>\n",
              "<style scoped>\n",
              "    .dataframe tbody tr th:only-of-type {\n",
              "        vertical-align: middle;\n",
              "    }\n",
              "\n",
              "    .dataframe tbody tr th {\n",
              "        vertical-align: top;\n",
              "    }\n",
              "\n",
              "    .dataframe thead th {\n",
              "        text-align: right;\n",
              "    }\n",
              "</style>\n",
              "<table border=\"1\" class=\"dataframe\">\n",
              "  <thead>\n",
              "    <tr style=\"text-align: right;\">\n",
              "      <th></th>\n",
              "      <th>Nome</th>\n",
              "      <th>Idade</th>\n",
              "      <th>Posicao</th>\n",
              "      <th>Media</th>\n",
              "      <th>Potencial</th>\n",
              "      <th>Time</th>\n",
              "      <th>Salario</th>\n",
              "      <th>Total_Pontos</th>\n",
              "    </tr>\n",
              "  </thead>\n",
              "  <tbody>\n",
              "  </tbody>\n",
              "</table>\n",
              "</div>"
            ],
            "text/plain": [
              "Empty DataFrame\n",
              "Columns: [Nome, Idade, Posicao, Media, Potencial, Time, Salario, Total_Pontos]\n",
              "Index: []"
            ]
          },
          "metadata": {
            "tags": []
          },
          "execution_count": 26
        }
      ]
    },
    {
      "cell_type": "code",
      "metadata": {
        "id": "WobtPFzeoUzV"
      },
      "source": [
        "for offset in range(0, 50):\r\n",
        "  url = url + str(offset*61)\r\n",
        "  p_html = requests.get(url)\r\n",
        "  p_soup = p_html.text\r\n",
        "  data = BeautifulSoup(p_soup, 'html.parser')\r\n",
        "  table = data.find('tbody')\r\n",
        "  for i in table.findAll('tr'):\r\n",
        "    td = i.findAll('td')\r\n",
        "    Nome = td[1].findAll('a')[0].text\r\n",
        "    Idade = td[2].text\r\n",
        "    Posicao = td[1].findAll('a')[1].text\r\n",
        "    Media = td[3].find('span').text\r\n",
        "    Potencial = td[4].find('span').text\r\n",
        "    Time = td[5].find('a').text\r\n",
        "    Salario =td[7].text.strip()\r\n",
        "    Total_Pontos = td[8].text.strip()\r\n",
        "\r\n",
        "    dados_jogadores = pd.DataFrame([[Nome, Idade, Posicao, Media, Potencial, Time, Salario, Total_Pontos]])\r\n",
        "\r\n",
        "    dados_jogadores.columns = colunas\r\n",
        "\r\n",
        "    dados = dados.append(dados_jogadores, ignore_index = True)"
      ],
      "execution_count": 27,
      "outputs": []
    },
    {
      "cell_type": "code",
      "metadata": {
        "colab": {
          "base_uri": "https://localhost:8080/"
        },
        "id": "uT5tKn9pudYs",
        "outputId": "0d334bef-4b2f-4575-853f-13f0131b0335"
      },
      "source": [
        "print(dados)"
      ],
      "execution_count": 28,
      "outputs": [
        {
          "output_type": "stream",
          "text": [
            "                 Nome Idade Posicao  ...             Time Salario Total_Pontos\n",
            "0            V. Thill    20      RW  ...      CD Nacional     €2K         1551\n",
            "1      S. Wamangituka    20      RM  ...    VfB Stuttgart    €13K         1847\n",
            "2          14 A. Wolf    31      CB  ...        AS Monaco    €30K         1621\n",
            "3       N. De la Cruz    23      CM  ...      River Plate    €17K         2180\n",
            "4                Isco    28     CAM  ...      Real Madrid   €190K         2077\n",
            "...               ...   ...     ...  ...              ...     ...          ...\n",
            "2995        T. Souček    25     CDM  ...  West Ham United    €46K         2075\n",
            "2996       Rúben Dias    23      CB  ...  Manchester City   €110K         1777\n",
            "2997         P. Foden    20     CAM  ...  Manchester City    €95K         1997\n",
            "2998     Nuno Tavares    20      LB  ...       SL Benfica     €7K         1900\n",
            "2999         M. Kudus    19     CAM  ...             Ajax    €10K         2015\n",
            "\n",
            "[3000 rows x 8 columns]\n"
          ],
          "name": "stdout"
        }
      ]
    },
    {
      "cell_type": "markdown",
      "metadata": {
        "id": "voy2umNouvpZ"
      },
      "source": [
        "# **Exportar os nosso Dados**"
      ]
    },
    {
      "cell_type": "code",
      "metadata": {
        "id": "xmRlgWOru0hW"
      },
      "source": [
        "dados.to_csv('sds_fifa.csv', encoding='utf-8', index=True)"
      ],
      "execution_count": 29,
      "outputs": []
    },
    {
      "cell_type": "code",
      "metadata": {
        "id": "ZGurzSAvvGGZ"
      },
      "source": [
        "dados.to_excel('sds_fifa.xlsx', index=True)"
      ],
      "execution_count": 30,
      "outputs": []
    }
  ]
}