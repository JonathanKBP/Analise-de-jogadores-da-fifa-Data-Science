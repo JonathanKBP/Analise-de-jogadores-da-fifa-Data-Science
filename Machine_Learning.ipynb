{
  "nbformat": 4,
  "nbformat_minor": 0,
  "metadata": {
    "colab": {
      "name": "Machine Learning.ipynb",
      "provenance": [],
      "authorship_tag": "ABX9TyOJDxBwNTv7YO5GH9Zl756y",
      "include_colab_link": true
    },
    "kernelspec": {
      "name": "python3",
      "display_name": "Python 3"
    }
  },
  "cells": [
    {
      "cell_type": "markdown",
      "metadata": {
        "id": "view-in-github",
        "colab_type": "text"
      },
      "source": [
        "<a href=\"https://colab.research.google.com/github/JonathanKBP/Analise-de-jogadores-da-fifa-Data-Science/blob/main/Machine_Learning.ipynb\" target=\"_parent\"><img src=\"https://colab.research.google.com/assets/colab-badge.svg\" alt=\"Open In Colab\"/></a>"
      ]
    },
    {
      "cell_type": "markdown",
      "metadata": {
        "id": "xmme4ycSyXXq"
      },
      "source": [
        "# **Importar bibliotecas e dados**"
      ]
    },
    {
      "cell_type": "code",
      "metadata": {
        "id": "yj0qZrTvx9WD"
      },
      "source": [
        "import pandas as pd\r\n",
        "import numpy as np\r\n",
        "import matplotlib.pyplot as plt\r\n",
        "import seaborn as sns"
      ],
      "execution_count": 23,
      "outputs": []
    },
    {
      "cell_type": "code",
      "metadata": {
        "id": "lTmrGdUjyw-K"
      },
      "source": [
        "dados = pd.read_csv('sds.fifa_atualizado.csv')"
      ],
      "execution_count": 24,
      "outputs": []
    },
    {
      "cell_type": "code",
      "metadata": {
        "colab": {
          "base_uri": "https://localhost:8080/",
          "height": 204
        },
        "id": "P7jh8n38zCXD",
        "outputId": "b0aa94e1-56eb-496b-9a6f-354682f13e66"
      },
      "source": [
        "dados.head()"
      ],
      "execution_count": 25,
      "outputs": [
        {
          "output_type": "execute_result",
          "data": {
            "text/html": [
              "<div>\n",
              "<style scoped>\n",
              "    .dataframe tbody tr th:only-of-type {\n",
              "        vertical-align: middle;\n",
              "    }\n",
              "\n",
              "    .dataframe tbody tr th {\n",
              "        vertical-align: top;\n",
              "    }\n",
              "\n",
              "    .dataframe thead th {\n",
              "        text-align: right;\n",
              "    }\n",
              "</style>\n",
              "<table border=\"1\" class=\"dataframe\">\n",
              "  <thead>\n",
              "    <tr style=\"text-align: right;\">\n",
              "      <th></th>\n",
              "      <th>Unnamed: 0</th>\n",
              "      <th>Nome</th>\n",
              "      <th>Idade</th>\n",
              "      <th>Posicao</th>\n",
              "      <th>Media</th>\n",
              "      <th>Potencial</th>\n",
              "      <th>Time</th>\n",
              "      <th>Salario</th>\n",
              "      <th>Total_Pontos</th>\n",
              "    </tr>\n",
              "  </thead>\n",
              "  <tbody>\n",
              "    <tr>\n",
              "      <th>0</th>\n",
              "      <td>0</td>\n",
              "      <td>V. Thill</td>\n",
              "      <td>20</td>\n",
              "      <td>RW</td>\n",
              "      <td>63</td>\n",
              "      <td>77</td>\n",
              "      <td>CD Nacional</td>\n",
              "      <td>2000</td>\n",
              "      <td>1551</td>\n",
              "    </tr>\n",
              "    <tr>\n",
              "      <th>1</th>\n",
              "      <td>1</td>\n",
              "      <td>S. Wamangituka</td>\n",
              "      <td>20</td>\n",
              "      <td>RM</td>\n",
              "      <td>72</td>\n",
              "      <td>83</td>\n",
              "      <td>VfB Stuttgart</td>\n",
              "      <td>13000</td>\n",
              "      <td>1847</td>\n",
              "    </tr>\n",
              "    <tr>\n",
              "      <th>2</th>\n",
              "      <td>2</td>\n",
              "      <td>14 A. Wolf</td>\n",
              "      <td>31</td>\n",
              "      <td>CB</td>\n",
              "      <td>73</td>\n",
              "      <td>73</td>\n",
              "      <td>AS Monaco</td>\n",
              "      <td>30000</td>\n",
              "      <td>1621</td>\n",
              "    </tr>\n",
              "    <tr>\n",
              "      <th>3</th>\n",
              "      <td>3</td>\n",
              "      <td>N. De la Cruz</td>\n",
              "      <td>23</td>\n",
              "      <td>CM</td>\n",
              "      <td>78</td>\n",
              "      <td>85</td>\n",
              "      <td>River Plate</td>\n",
              "      <td>17000</td>\n",
              "      <td>2180</td>\n",
              "    </tr>\n",
              "    <tr>\n",
              "      <th>4</th>\n",
              "      <td>4</td>\n",
              "      <td>Isco</td>\n",
              "      <td>28</td>\n",
              "      <td>CAM</td>\n",
              "      <td>83</td>\n",
              "      <td>83</td>\n",
              "      <td>Real Madrid</td>\n",
              "      <td>190000</td>\n",
              "      <td>2077</td>\n",
              "    </tr>\n",
              "  </tbody>\n",
              "</table>\n",
              "</div>"
            ],
            "text/plain": [
              "   Unnamed: 0             Nome  Idade  ...           Time  Salario  Total_Pontos\n",
              "0           0         V. Thill     20  ...    CD Nacional     2000          1551\n",
              "1           1   S. Wamangituka     20  ...  VfB Stuttgart    13000          1847\n",
              "2           2       14 A. Wolf     31  ...      AS Monaco    30000          1621\n",
              "3           3    N. De la Cruz     23  ...    River Plate    17000          2180\n",
              "4           4             Isco     28  ...    Real Madrid   190000          2077\n",
              "\n",
              "[5 rows x 9 columns]"
            ]
          },
          "metadata": {
            "tags": []
          },
          "execution_count": 25
        }
      ]
    },
    {
      "cell_type": "code",
      "metadata": {
        "id": "PhM-RG5BzG-L"
      },
      "source": [
        "dados.drop('Unnamed: 0', axis=1, inplace=True)"
      ],
      "execution_count": 26,
      "outputs": []
    },
    {
      "cell_type": "code",
      "metadata": {
        "colab": {
          "base_uri": "https://localhost:8080/",
          "height": 204
        },
        "id": "DbRWVD7vzTit",
        "outputId": "4f5edc19-25ba-4f9c-ce0f-e56a585ffb89"
      },
      "source": [
        "dados.head()"
      ],
      "execution_count": 27,
      "outputs": [
        {
          "output_type": "execute_result",
          "data": {
            "text/html": [
              "<div>\n",
              "<style scoped>\n",
              "    .dataframe tbody tr th:only-of-type {\n",
              "        vertical-align: middle;\n",
              "    }\n",
              "\n",
              "    .dataframe tbody tr th {\n",
              "        vertical-align: top;\n",
              "    }\n",
              "\n",
              "    .dataframe thead th {\n",
              "        text-align: right;\n",
              "    }\n",
              "</style>\n",
              "<table border=\"1\" class=\"dataframe\">\n",
              "  <thead>\n",
              "    <tr style=\"text-align: right;\">\n",
              "      <th></th>\n",
              "      <th>Nome</th>\n",
              "      <th>Idade</th>\n",
              "      <th>Posicao</th>\n",
              "      <th>Media</th>\n",
              "      <th>Potencial</th>\n",
              "      <th>Time</th>\n",
              "      <th>Salario</th>\n",
              "      <th>Total_Pontos</th>\n",
              "    </tr>\n",
              "  </thead>\n",
              "  <tbody>\n",
              "    <tr>\n",
              "      <th>0</th>\n",
              "      <td>V. Thill</td>\n",
              "      <td>20</td>\n",
              "      <td>RW</td>\n",
              "      <td>63</td>\n",
              "      <td>77</td>\n",
              "      <td>CD Nacional</td>\n",
              "      <td>2000</td>\n",
              "      <td>1551</td>\n",
              "    </tr>\n",
              "    <tr>\n",
              "      <th>1</th>\n",
              "      <td>S. Wamangituka</td>\n",
              "      <td>20</td>\n",
              "      <td>RM</td>\n",
              "      <td>72</td>\n",
              "      <td>83</td>\n",
              "      <td>VfB Stuttgart</td>\n",
              "      <td>13000</td>\n",
              "      <td>1847</td>\n",
              "    </tr>\n",
              "    <tr>\n",
              "      <th>2</th>\n",
              "      <td>14 A. Wolf</td>\n",
              "      <td>31</td>\n",
              "      <td>CB</td>\n",
              "      <td>73</td>\n",
              "      <td>73</td>\n",
              "      <td>AS Monaco</td>\n",
              "      <td>30000</td>\n",
              "      <td>1621</td>\n",
              "    </tr>\n",
              "    <tr>\n",
              "      <th>3</th>\n",
              "      <td>N. De la Cruz</td>\n",
              "      <td>23</td>\n",
              "      <td>CM</td>\n",
              "      <td>78</td>\n",
              "      <td>85</td>\n",
              "      <td>River Plate</td>\n",
              "      <td>17000</td>\n",
              "      <td>2180</td>\n",
              "    </tr>\n",
              "    <tr>\n",
              "      <th>4</th>\n",
              "      <td>Isco</td>\n",
              "      <td>28</td>\n",
              "      <td>CAM</td>\n",
              "      <td>83</td>\n",
              "      <td>83</td>\n",
              "      <td>Real Madrid</td>\n",
              "      <td>190000</td>\n",
              "      <td>2077</td>\n",
              "    </tr>\n",
              "  </tbody>\n",
              "</table>\n",
              "</div>"
            ],
            "text/plain": [
              "              Nome  Idade Posicao  ...           Time  Salario Total_Pontos\n",
              "0         V. Thill     20      RW  ...    CD Nacional     2000         1551\n",
              "1   S. Wamangituka     20      RM  ...  VfB Stuttgart    13000         1847\n",
              "2       14 A. Wolf     31      CB  ...      AS Monaco    30000         1621\n",
              "3    N. De la Cruz     23      CM  ...    River Plate    17000         2180\n",
              "4             Isco     28     CAM  ...    Real Madrid   190000         2077\n",
              "\n",
              "[5 rows x 8 columns]"
            ]
          },
          "metadata": {
            "tags": []
          },
          "execution_count": 27
        }
      ]
    },
    {
      "cell_type": "markdown",
      "metadata": {
        "id": "NHwrsFmGzbok"
      },
      "source": [
        "# **Pré-Processamento dos dados**"
      ]
    },
    {
      "cell_type": "code",
      "metadata": {
        "colab": {
          "base_uri": "https://localhost:8080/"
        },
        "id": "SD1OSW3lzWHl",
        "outputId": "ef50f0ea-52ac-4ae5-dca9-17e19467d172"
      },
      "source": [
        "dados.columns"
      ],
      "execution_count": 28,
      "outputs": [
        {
          "output_type": "execute_result",
          "data": {
            "text/plain": [
              "Index(['Nome', 'Idade', 'Posicao', 'Media', 'Potencial', 'Time', 'Salario',\n",
              "       'Total_Pontos'],\n",
              "      dtype='object')"
            ]
          },
          "metadata": {
            "tags": []
          },
          "execution_count": 28
        }
      ]
    },
    {
      "cell_type": "code",
      "metadata": {
        "id": "KjYJZO0gzq8g"
      },
      "source": [
        "colunas = ['Nome', 'Time']"
      ],
      "execution_count": 29,
      "outputs": []
    },
    {
      "cell_type": "code",
      "metadata": {
        "id": "X8-wOG0bzzvx"
      },
      "source": [
        "dados.drop(colunas, axis=1, inplace=True)"
      ],
      "execution_count": 30,
      "outputs": []
    },
    {
      "cell_type": "code",
      "metadata": {
        "colab": {
          "base_uri": "https://localhost:8080/",
          "height": 204
        },
        "id": "VZPW1w5Wz96i",
        "outputId": "cb0ab305-23cd-40bc-d060-1bd90b5bef47"
      },
      "source": [
        "dados.head()"
      ],
      "execution_count": 31,
      "outputs": [
        {
          "output_type": "execute_result",
          "data": {
            "text/html": [
              "<div>\n",
              "<style scoped>\n",
              "    .dataframe tbody tr th:only-of-type {\n",
              "        vertical-align: middle;\n",
              "    }\n",
              "\n",
              "    .dataframe tbody tr th {\n",
              "        vertical-align: top;\n",
              "    }\n",
              "\n",
              "    .dataframe thead th {\n",
              "        text-align: right;\n",
              "    }\n",
              "</style>\n",
              "<table border=\"1\" class=\"dataframe\">\n",
              "  <thead>\n",
              "    <tr style=\"text-align: right;\">\n",
              "      <th></th>\n",
              "      <th>Idade</th>\n",
              "      <th>Posicao</th>\n",
              "      <th>Media</th>\n",
              "      <th>Potencial</th>\n",
              "      <th>Salario</th>\n",
              "      <th>Total_Pontos</th>\n",
              "    </tr>\n",
              "  </thead>\n",
              "  <tbody>\n",
              "    <tr>\n",
              "      <th>0</th>\n",
              "      <td>20</td>\n",
              "      <td>RW</td>\n",
              "      <td>63</td>\n",
              "      <td>77</td>\n",
              "      <td>2000</td>\n",
              "      <td>1551</td>\n",
              "    </tr>\n",
              "    <tr>\n",
              "      <th>1</th>\n",
              "      <td>20</td>\n",
              "      <td>RM</td>\n",
              "      <td>72</td>\n",
              "      <td>83</td>\n",
              "      <td>13000</td>\n",
              "      <td>1847</td>\n",
              "    </tr>\n",
              "    <tr>\n",
              "      <th>2</th>\n",
              "      <td>31</td>\n",
              "      <td>CB</td>\n",
              "      <td>73</td>\n",
              "      <td>73</td>\n",
              "      <td>30000</td>\n",
              "      <td>1621</td>\n",
              "    </tr>\n",
              "    <tr>\n",
              "      <th>3</th>\n",
              "      <td>23</td>\n",
              "      <td>CM</td>\n",
              "      <td>78</td>\n",
              "      <td>85</td>\n",
              "      <td>17000</td>\n",
              "      <td>2180</td>\n",
              "    </tr>\n",
              "    <tr>\n",
              "      <th>4</th>\n",
              "      <td>28</td>\n",
              "      <td>CAM</td>\n",
              "      <td>83</td>\n",
              "      <td>83</td>\n",
              "      <td>190000</td>\n",
              "      <td>2077</td>\n",
              "    </tr>\n",
              "  </tbody>\n",
              "</table>\n",
              "</div>"
            ],
            "text/plain": [
              "   Idade Posicao  Media  Potencial  Salario  Total_Pontos\n",
              "0     20      RW     63         77     2000          1551\n",
              "1     20      RM     72         83    13000          1847\n",
              "2     31      CB     73         73    30000          1621\n",
              "3     23      CM     78         85    17000          2180\n",
              "4     28     CAM     83         83   190000          2077"
            ]
          },
          "metadata": {
            "tags": []
          },
          "execution_count": 31
        }
      ]
    },
    {
      "cell_type": "code",
      "metadata": {
        "id": "zgtyGXOTz_q7"
      },
      "source": [
        "dados = dados[['Idade', 'Posicao', 'Media', 'Potencial', 'Total_Pontos', 'Salario']]"
      ],
      "execution_count": 32,
      "outputs": []
    },
    {
      "cell_type": "code",
      "metadata": {
        "colab": {
          "base_uri": "https://localhost:8080/",
          "height": 204
        },
        "id": "_h-eGVR-0Ra5",
        "outputId": "723726c7-7171-4697-c239-8e01018c36ea"
      },
      "source": [
        "dados.head()"
      ],
      "execution_count": 33,
      "outputs": [
        {
          "output_type": "execute_result",
          "data": {
            "text/html": [
              "<div>\n",
              "<style scoped>\n",
              "    .dataframe tbody tr th:only-of-type {\n",
              "        vertical-align: middle;\n",
              "    }\n",
              "\n",
              "    .dataframe tbody tr th {\n",
              "        vertical-align: top;\n",
              "    }\n",
              "\n",
              "    .dataframe thead th {\n",
              "        text-align: right;\n",
              "    }\n",
              "</style>\n",
              "<table border=\"1\" class=\"dataframe\">\n",
              "  <thead>\n",
              "    <tr style=\"text-align: right;\">\n",
              "      <th></th>\n",
              "      <th>Idade</th>\n",
              "      <th>Posicao</th>\n",
              "      <th>Media</th>\n",
              "      <th>Potencial</th>\n",
              "      <th>Total_Pontos</th>\n",
              "      <th>Salario</th>\n",
              "    </tr>\n",
              "  </thead>\n",
              "  <tbody>\n",
              "    <tr>\n",
              "      <th>0</th>\n",
              "      <td>20</td>\n",
              "      <td>RW</td>\n",
              "      <td>63</td>\n",
              "      <td>77</td>\n",
              "      <td>1551</td>\n",
              "      <td>2000</td>\n",
              "    </tr>\n",
              "    <tr>\n",
              "      <th>1</th>\n",
              "      <td>20</td>\n",
              "      <td>RM</td>\n",
              "      <td>72</td>\n",
              "      <td>83</td>\n",
              "      <td>1847</td>\n",
              "      <td>13000</td>\n",
              "    </tr>\n",
              "    <tr>\n",
              "      <th>2</th>\n",
              "      <td>31</td>\n",
              "      <td>CB</td>\n",
              "      <td>73</td>\n",
              "      <td>73</td>\n",
              "      <td>1621</td>\n",
              "      <td>30000</td>\n",
              "    </tr>\n",
              "    <tr>\n",
              "      <th>3</th>\n",
              "      <td>23</td>\n",
              "      <td>CM</td>\n",
              "      <td>78</td>\n",
              "      <td>85</td>\n",
              "      <td>2180</td>\n",
              "      <td>17000</td>\n",
              "    </tr>\n",
              "    <tr>\n",
              "      <th>4</th>\n",
              "      <td>28</td>\n",
              "      <td>CAM</td>\n",
              "      <td>83</td>\n",
              "      <td>83</td>\n",
              "      <td>2077</td>\n",
              "      <td>190000</td>\n",
              "    </tr>\n",
              "  </tbody>\n",
              "</table>\n",
              "</div>"
            ],
            "text/plain": [
              "   Idade Posicao  Media  Potencial  Total_Pontos  Salario\n",
              "0     20      RW     63         77          1551     2000\n",
              "1     20      RM     72         83          1847    13000\n",
              "2     31      CB     73         73          1621    30000\n",
              "3     23      CM     78         85          2180    17000\n",
              "4     28     CAM     83         83          2077   190000"
            ]
          },
          "metadata": {
            "tags": []
          },
          "execution_count": 33
        }
      ]
    },
    {
      "cell_type": "code",
      "metadata": {
        "id": "_n_jO_7b0TGm"
      },
      "source": [
        "X = dados.iloc[:, :-1].values"
      ],
      "execution_count": 38,
      "outputs": []
    },
    {
      "cell_type": "code",
      "metadata": {
        "colab": {
          "base_uri": "https://localhost:8080/"
        },
        "id": "NGwC5MoH1RAE",
        "outputId": "3ead92b0-3897-4c49-8779-15cb6799d5de"
      },
      "source": [
        "print(X)"
      ],
      "execution_count": 39,
      "outputs": [
        {
          "output_type": "stream",
          "text": [
            "[[20 'RW' 63 77 1551]\n",
            " [20 'RM' 72 83 1847]\n",
            " [31 'CB' 73 73 1621]\n",
            " [23 'CM' 78 85 2180]\n",
            " [28 'CAM' 83 83 2077]\n",
            " [23 'LM' 75 83 1940]\n",
            " [17 'CM' 65 85 1656]\n",
            " [24 'LW' 83 86 2014]\n",
            " [17 'ST' 64 84 1510]\n",
            " [22 'CDM' 75 82 2035]\n",
            " [18 'CM' 75 89 2016]\n",
            " [16 'RW' 69 88 1623]\n",
            " [26 'RB' 73 76 1969]\n",
            " [29 'LW' 87 87 2096]\n",
            " [17 'CAM' 66 87 1629]\n",
            " [19 'RW' 75 86 1816]\n",
            " [18 'RM' 77 88 1968]\n",
            " [22 'CB' 76 87 1663]\n",
            " [25 'CB' 77 81 1733]\n",
            " [19 'ST' 86 92 2052]\n",
            " [34 'ST' 79 79 2041]\n",
            " [17 'LM' 76 90 1865]\n",
            " [17 'CM' 78 89 2086]\n",
            " [17 'CAM' 68 85 1561]\n",
            " [20 'CB' 74 84 1734]\n",
            " [18 'CB' 71 87 1817]\n",
            " [18 'RM' 72 87 1792]\n",
            " [21 'CB' 81 90 1841]\n",
            " [27 'CAM' 77 77 2064]\n",
            " [17 'CM' 74 88 1962]\n",
            " [21 'CB' 71 81 1591]\n",
            " [17 'LW' 76 90 1817]\n",
            " [33 'RW' 93 93 2231]\n",
            " [17 'CAM' 75 88 1858]\n",
            " [19 'CAM' 77 87 1967]\n",
            " [18 'ST' 69 86 1750]\n",
            " [18 'RM' 77 89 1922]\n",
            " [18 'GK' 68 86 911]\n",
            " [21 'CAM' 80 87 1993]\n",
            " [17 'ST' 74 87 1881]\n",
            " [20 'CB' 75 85 1714]\n",
            " [19 'RB' 75 88 1964]\n",
            " [17 'CAM' 75 88 1876]\n",
            " [19 'CAM' 74 88 2001]\n",
            " [21 'ST' 76 83 1832]\n",
            " [21 'CAM' 80 87 1997]\n",
            " [19 'RW' 74 88 1981]\n",
            " [35 'ST' 92 92 2221]\n",
            " [21 'ST' 76 87 1905]\n",
            " [20 'RW' 79 88 1939]\n",
            " [19 'RWB' 73 85 1777]\n",
            " [18 'RM' 71 87 1736]\n",
            " [22 'RW' 79 87 2021]\n",
            " [18 'CAM' 77 87 1891]\n",
            " [17 'ST' 59 82 1544]\n",
            " [25 'CDM' 81 86 2075]\n",
            " [23 'CB' 82 87 1777]\n",
            " [20 'CAM' 81 91 1997]\n",
            " [20 'LB' 73 86 1900]\n",
            " [19 'CAM' 77 87 2015]\n",
            " [18 'CB' 71 85 1652]\n",
            " [21 'CAM' 83 89 2096]\n",
            " [18 'LW' 70 87 1815]\n",
            " [30 'RM' 82 82 2194]\n",
            " [21 'ST' 90 95 2147]\n",
            " [31 'ST' 92 92 2213]\n",
            " [19 'LB' 81 89 2111]\n",
            " [20 'CM' 75 87 1889]\n",
            " [25 'CDM' 89 90 2284]\n",
            " [28 'LW' 91 91 2175]\n",
            " [20 'RW' 78 88 2005]\n",
            " [20 'RM' 86 92 1999]\n",
            " [17 'CAM' 71 83 1786]\n",
            " [25 'CAM' 88 91 2336]\n",
            " [19 'CM' 71 86 1856]\n",
            " [21 'CAM' 84 92 2052]\n",
            " [19 'CB' 75 85 1724]\n",
            " [29 'ST' 86 86 2276]\n",
            " [27 'LM' 89 89 2146]\n",
            " [25 'CM' 84 87 2238]\n",
            " [18 'ST' 68 83 1677]\n",
            " [17 'CM' 65 85 1742]\n",
            " [20 'RB' 78 86 2035]\n",
            " [19 'ST' 73 86 1933]\n",
            " [23 'CM' 86 91 2189]\n",
            " [20 'ST' 77 86 1818]\n",
            " [21 'CB' 81 87 1835]\n",
            " [20 'CF' 83 93 2072]\n",
            " [21 'CB' 78 88 1725]\n",
            " [26 'ST' 80 82 1948]\n",
            " [17 'RM' 63 82 1469]\n",
            " [20 'CDM' 79 85 1902]\n",
            " [19 'LW' 80 90 1916]\n",
            " [17 'RW' 70 87 1610]\n",
            " [19 'LW' 74 86 1844]\n",
            " [19 'RM' 75 88 1826]\n",
            " [34 'ST' 81 81 2018]\n",
            " [21 'CB' 80 87 1875]\n",
            " [21 'RM' 83 88 2150]\n",
            " [19 'CAM' 73 85 1719]\n",
            " [22 'RB' 80 86 1950]\n",
            " [21 'LW' 81 87 1946]\n",
            " [21 'CDM' 79 86 1823]\n",
            " [19 'CB' 73 85 1657]\n",
            " [24 'ST' 84 87 2016]\n",
            " [20 'CDM' 77 88 2085]\n",
            " [22 'ST' 76 83 1898]\n",
            " [19 'RW' 79 90 1931]\n",
            " [24 'RW' 81 84 2002]\n",
            " [22 'LM' 85 91 2158]\n",
            " [17 'CB' 62 85 1495]\n",
            " [20 'RW' 77 87 1906]\n",
            " [34 'RB' 78 78 2067]\n",
            " [21 'RW' 74 84 1947]\n",
            " [18 'CB' 67 86 1529]\n",
            " [17 'ST' 69 85 1621]\n",
            " [17 'LM' 71 85 1852]\n",
            " [19 'ST' 75 85 1812]\n",
            " [20 'RB' 74 83 1788]\n",
            " [19 'LB' 75 83 1904]]\n"
          ],
          "name": "stdout"
        }
      ]
    },
    {
      "cell_type": "code",
      "metadata": {
        "id": "iTJT1v-81-8r"
      },
      "source": [
        "Y = dados.iloc[:, -1].values"
      ],
      "execution_count": 40,
      "outputs": []
    },
    {
      "cell_type": "code",
      "metadata": {
        "colab": {
          "base_uri": "https://localhost:8080/"
        },
        "id": "6twj_pCL22Jq",
        "outputId": "274e4eb5-48ec-4db3-b343-b778ba18afe2"
      },
      "source": [
        "print(Y)"
      ],
      "execution_count": 41,
      "outputs": [
        {
          "output_type": "stream",
          "text": [
            "[  2000  13000  30000  17000 190000  30000   2000  82000   5000  20000\n",
            "   6000   6000  10000 290000   1000  44000  25000  40000  14000  67000\n",
            "  48000  14000   6000   3000  16000    500   5000  41000  95000   6000\n",
            "  45000  24000 560000   6000  27000   6000  33000    550  40000    500\n",
            "  17000  50000   7000   9000  22000  70000  11000 220000  11000  17000\n",
            "  20000  19000  16000   7000    500  46000 110000  95000   7000  10000\n",
            "  10000 135000    500 170000 160000 270000  40000  77000 150000 270000\n",
            "  58000  76000   2000 240000  25000  95000  30000 270000 210000  78000\n",
            "   3000   4000  53000  13000 210000  29000  23000  61000  33000  23000\n",
            "   1000  29000  95000   9000  38000  59000  66000  44000  90000  30000\n",
            "  46000  83000  31000  36000 125000  25000  23000  90000  71000 150000\n",
            "    500  95000  13000  13000   1000   7000   2000   7000   8000  40000]\n"
          ],
          "name": "stdout"
        }
      ]
    },
    {
      "cell_type": "code",
      "metadata": {
        "id": "smXmehfk3Ayr"
      },
      "source": [
        "from sklearn.compose import ColumnTransformer\r\n",
        "from sklearn.preprocessing import OneHotEncoder\r\n",
        "ct = ColumnTransformer([('encoder', OneHotEncoder(), [1])], remainder='passthrough')\r\n",
        "X = ct.fit_transform(X).toarray()"
      ],
      "execution_count": 42,
      "outputs": []
    },
    {
      "cell_type": "code",
      "metadata": {
        "colab": {
          "base_uri": "https://localhost:8080/"
        },
        "id": "JQkuwzwX4hGy",
        "outputId": "cb2c5059-f107-4c82-f560-c7461a3f1ba4"
      },
      "source": [
        "print(X)"
      ],
      "execution_count": 43,
      "outputs": [
        {
          "output_type": "stream",
          "text": [
            "[[0.000e+00 0.000e+00 0.000e+00 ... 6.300e+01 7.700e+01 1.551e+03]\n",
            " [0.000e+00 0.000e+00 0.000e+00 ... 7.200e+01 8.300e+01 1.847e+03]\n",
            " [0.000e+00 1.000e+00 0.000e+00 ... 7.300e+01 7.300e+01 1.621e+03]\n",
            " ...\n",
            " [0.000e+00 0.000e+00 0.000e+00 ... 7.500e+01 8.500e+01 1.812e+03]\n",
            " [0.000e+00 0.000e+00 0.000e+00 ... 7.400e+01 8.300e+01 1.788e+03]\n",
            " [0.000e+00 0.000e+00 0.000e+00 ... 7.500e+01 8.300e+01 1.904e+03]]\n"
          ],
          "name": "stdout"
        }
      ]
    },
    {
      "cell_type": "markdown",
      "metadata": {
        "id": "-_cPegwp4vOf"
      },
      "source": [
        "# **Criar Machine Learning**"
      ]
    },
    {
      "cell_type": "code",
      "metadata": {
        "id": "U3xyn5IA4jdX"
      },
      "source": [
        "from sklearn.model_selection import train_test_split\r\n",
        "X_train, X_test, Y_train, Y_test = train_test_split(X, Y, test_size=0.2, random_state=0)"
      ],
      "execution_count": 44,
      "outputs": []
    },
    {
      "cell_type": "code",
      "metadata": {
        "id": "jkFpkYgl5W8M"
      },
      "source": [
        "from sklearn.linear_model import LinearRegression\r\n",
        "regressor = LinearRegression()"
      ],
      "execution_count": 45,
      "outputs": []
    },
    {
      "cell_type": "code",
      "metadata": {
        "colab": {
          "base_uri": "https://localhost:8080/"
        },
        "id": "LiZVpf405r5n",
        "outputId": "e074470f-7b03-44f3-da3c-4e5e78c4007e"
      },
      "source": [
        "regressor.fit(X_train, Y_train)"
      ],
      "execution_count": 46,
      "outputs": [
        {
          "output_type": "execute_result",
          "data": {
            "text/plain": [
              "LinearRegression(copy_X=True, fit_intercept=True, n_jobs=None, normalize=False)"
            ]
          },
          "metadata": {
            "tags": []
          },
          "execution_count": 46
        }
      ]
    },
    {
      "cell_type": "code",
      "metadata": {
        "colab": {
          "base_uri": "https://localhost:8080/"
        },
        "id": "MYkjO13Y5zB4",
        "outputId": "a7f656c1-df18-44d2-80fc-af89dbfe6222"
      },
      "source": [
        "y_pred = regressor.predict(X_test)\r\n",
        "np.set_printoptions(precision=2)\r\n",
        "print(np.concatenate((y_pred.reshape(len(y_pred), 1), Y_test.reshape(len(Y_test), 1)), 1))"
      ],
      "execution_count": 48,
      "outputs": [
        {
          "output_type": "stream",
          "text": [
            "[[ 53426.8   11000.  ]\n",
            " [ 49162.31  38000.  ]\n",
            " [ 49865.19  59000.  ]\n",
            " [-37806.85   5000.  ]\n",
            " [ 46636.54  44000.  ]\n",
            " [ 34850.66   6000.  ]\n",
            " [125920.17  82000.  ]\n",
            " [ 46641.22   6000.  ]\n",
            " [ 82355.01  70000.  ]\n",
            " [ 71095.84  23000.  ]\n",
            " [ 36290.23   6000.  ]\n",
            " [  4394.48  20000.  ]\n",
            " [ 26546.14  30000.  ]\n",
            " [-22520.55  10000.  ]\n",
            " [-32709.77  40000.  ]\n",
            " [ 27228.05  25000.  ]\n",
            " [-23271.59  45000.  ]\n",
            " [ 55125.18   9000.  ]\n",
            " [ 67648.71  95000.  ]\n",
            " [ -5068.88  30000.  ]\n",
            " [128561.59 170000.  ]\n",
            " [ 48563.09  10000.  ]\n",
            " [ 32798.38  25000.  ]\n",
            " [ -4826.21  16000.  ]]\n"
          ],
          "name": "stdout"
        }
      ]
    },
    {
      "cell_type": "code",
      "metadata": {
        "colab": {
          "base_uri": "https://localhost:8080/"
        },
        "id": "rghcAfFv6WGN",
        "outputId": "0bb9f5ba-ef18-49d6-df92-5f6b950c922c"
      },
      "source": [
        "regressor.score(X_test, Y_test)"
      ],
      "execution_count": 50,
      "outputs": [
        {
          "output_type": "execute_result",
          "data": {
            "text/plain": [
              "0.06656096721171612"
            ]
          },
          "metadata": {
            "tags": []
          },
          "execution_count": 50
        }
      ]
    },
    {
      "cell_type": "code",
      "metadata": {
        "id": "Y6xLpvh67MA7"
      },
      "source": [
        "importancia = regressor.coef_"
      ],
      "execution_count": 51,
      "outputs": []
    },
    {
      "cell_type": "code",
      "metadata": {
        "colab": {
          "base_uri": "https://localhost:8080/",
          "height": 1000
        },
        "id": "Av7mR1S56-HB",
        "outputId": "ab7a681c-df1d-4cb9-c48c-a9f8223abef0"
      },
      "source": [
        "for i, v in enumerate(importancia):\r\n",
        "  print('Feature: %0d, Score: %.5f' % (i,v))\r\n",
        "  plt.bar([x for x in range(len(importancia))], importancia)\r\n",
        "  plt.show()"
      ],
      "execution_count": 54,
      "outputs": [
        {
          "output_type": "stream",
          "text": [
            "Feature: 0, Score: 26013.86770\n"
          ],
          "name": "stdout"
        },
        {
          "output_type": "display_data",
          "data": {
            "image/png": "[encoded data removed]",
            "text/plain": [
              "<Figure size 432x288 with 1 Axes>"
            ]
          },
          "metadata": {
            "tags": [],
            "needs_background": "light"
          }
        },
        {
          "output_type": "stream",
          "text": [
            "Feature: 1, Score: -15610.57900\n"
          ],
          "name": "stdout"
        },
        {
          "output_type": "display_data",
          "data": {
            "image/png": "[encoded data removed]",
            "text/plain": [
              "<Figure size 432x288 with 1 Axes>"
            ]
          },
          "metadata": {
            "tags": [],
            "needs_background": "light"
          }
        },
        {
          "output_type": "stream",
          "text": [
            "Feature: 2, Score: -11072.64009\n"
          ],
          "name": "stdout"
        },
        {
          "output_type": "display_data",
          "data": {
            "image/png": "[encoded data removed]",
            "text/plain": [
              "<Figure size 432x288 with 1 Axes>"
            ]
          },
          "metadata": {
            "tags": [],
            "needs_background": "light"
          }
        },
        {
          "output_type": "stream",
          "text": [
            "Feature: 3, Score: -50848.22851\n"
          ],
          "name": "stdout"
        },
        {
          "output_type": "display_data",
          "data": {
            "image/png": "[encoded data removed]",
            "text/plain": [
              "<Figure size 432x288 with 1 Axes>"
            ]
          },
          "metadata": {
            "tags": [],
            "needs_background": "light"
          }
        },
        {
          "output_type": "stream",
          "text": [
            "Feature: 4, Score: 18982.83191\n"
          ],
          "name": "stdout"
        },
        {
          "output_type": "display_data",
          "data": {
            "image/png": "[encoded data removed]",
            "text/plain": [
              "<Figure size 432x288 with 1 Axes>"
            ]
          },
          "metadata": {
            "tags": [],
            "needs_background": "light"
          }
        },
        {
          "output_type": "stream",
          "text": [
            "Feature: 5, Score: -34295.95454\n"
          ],
          "name": "stdout"
        },
        {
          "output_type": "display_data",
          "data": {
            "image/png": "[encoded data removed]",
            "text/plain": [
              "<Figure size 432x288 with 1 Axes>"
            ]
          },
          "metadata": {
            "tags": [],
            "needs_background": "light"
          }
        },
        {
          "output_type": "stream",
          "text": [
            "Feature: 6, Score: -12024.49137\n"
          ],
          "name": "stdout"
        },
        {
          "output_type": "display_data",
          "data": {
            "image/png": "[encoded data removed]",
            "text/plain": [
              "<Figure size 432x288 with 1 Axes>"
            ]
          },
          "metadata": {
            "tags": [],
            "needs_background": "light"
          }
        },
        {
          "output_type": "stream",
          "text": [
            "Feature: 7, Score: 16550.29554\n"
          ],
          "name": "stdout"
        },
        {
          "output_type": "display_data",
          "data": {
            "image/png": "[encoded data removed]",
            "text/plain": [
              "<Figure size 432x288 with 1 Axes>"
            ]
          },
          "metadata": {
            "tags": [],
            "needs_background": "light"
          }
        },
        {
          "output_type": "stream",
          "text": [
            "Feature: 8, Score: 34963.90931\n"
          ],
          "name": "stdout"
        },
        {
          "output_type": "display_data",
          "data": {
            "image/png": "[encoded data removed]",
            "text/plain": [
              "<Figure size 432x288 with 1 Axes>"
            ]
          },
          "metadata": {
            "tags": [],
            "needs_background": "light"
          }
        },
        {
          "output_type": "stream",
          "text": [
            "Feature: 9, Score: -8994.11034\n"
          ],
          "name": "stdout"
        },
        {
          "output_type": "display_data",
          "data": {
            "image/png": "[encoded data removed]",
            "text/plain": [
              "<Figure size 432x288 with 1 Axes>"
            ]
          },
          "metadata": {
            "tags": [],
            "needs_background": "light"
          }
        },
        {
          "output_type": "stream",
          "text": [
            "Feature: 10, Score: 10491.43109\n"
          ],
          "name": "stdout"
        },
        {
          "output_type": "display_data",
          "data": {
            "image/png": "[encoded data removed]",
            "text/plain": [
              "<Figure size 432x288 with 1 Axes>"
            ]
          },
          "metadata": {
            "tags": [],
            "needs_background": "light"
          }
        },
        {
          "output_type": "stream",
          "text": [
            "Feature: 11, Score: 26048.68925\n"
          ],
          "name": "stdout"
        },
        {
          "output_type": "display_data",
          "data": {
            "image/png": "[encoded data removed]",
            "text/plain": [
              "<Figure size 432x288 with 1 Axes>"
            ]
          },
          "metadata": {
            "tags": [],
            "needs_background": "light"
          }
        },
        {
          "output_type": "stream",
          "text": [
            "Feature: 12, Score: -0.00000\n"
          ],
          "name": "stdout"
        },
        {
          "output_type": "display_data",
          "data": {
            "image/png": "[encoded data removed]",
            "text/plain": [
              "<Figure size 432x288 with 1 Axes>"
            ]
          },
          "metadata": {
            "tags": [],
            "needs_background": "light"
          }
        },
        {
          "output_type": "stream",
          "text": [
            "Feature: 13, Score: -205.02095\n"
          ],
          "name": "stdout"
        },
        {
          "output_type": "display_data",
          "data": {
            "image/png": "[encoded data removed]",
            "text/plain": [
              "<Figure size 432x288 with 1 Axes>"
            ]
          },
          "metadata": {
            "tags": [],
            "needs_background": "light"
          }
        },
        {
          "output_type": "stream",
          "text": [
            "Feature: 14, Score: 13774.14351\n"
          ],
          "name": "stdout"
        },
        {
          "output_type": "display_data",
          "data": {
            "image/png": "[encoded data removed]",
            "text/plain": [
              "<Figure size 432x288 with 1 Axes>"
            ]
          },
          "metadata": {
            "tags": [],
            "needs_background": "light"
          }
        },
        {
          "output_type": "stream",
          "text": [
            "Feature: 15, Score: 1790.75406\n"
          ],
          "name": "stdout"
        },
        {
          "output_type": "display_data",
          "data": {
            "image/png": "[encoded data removed]",
            "text/plain": [
              "<Figure size 432x288 with 1 Axes>"
            ]
          },
          "metadata": {
            "tags": [],
            "needs_background": "light"
          }
        },
        {
          "output_type": "stream",
          "text": [
            "Feature: 16, Score: 11256.61533\n"
          ],
          "name": "stdout"
        },
        {
          "output_type": "display_data",
          "data": {
            "image/png": "[encoded data removed]",
            "text/plain": [
              "<Figure size 432x288 with 1 Axes>"
            ]
          },
          "metadata": {
            "tags": [],
            "needs_background": "light"
          }
        },
        {
          "output_type": "stream",
          "text": [
            "Feature: 17, Score: -48.40967\n"
          ],
          "name": "stdout"
        },
        {
          "output_type": "display_data",
          "data": {
            "image/png": "[encoded data removed]",
            "text/plain": [
              "<Figure size 432x288 with 1 Axes>"
            ]
          },
          "metadata": {
            "tags": [],
            "needs_background": "light"
          }
        }
      ]
    },
    {
      "cell_type": "code",
      "metadata": {
        "colab": {
          "base_uri": "https://localhost:8080/",
          "height": 296
        },
        "id": "YVwuB0CO7p0u",
        "outputId": "16330741-dc41-4aec-b544-b6e0a630bb04"
      },
      "source": [
        "sns.regplot(x='Potencial', y='Salario', data=dados)"
      ],
      "execution_count": 55,
      "outputs": [
        {
          "output_type": "execute_result",
          "data": {
            "text/plain": [
              "<matplotlib.axes._subplots.AxesSubplot at 0x7f8d10388c50>"
            ]
          },
          "metadata": {
            "tags": []
          },
          "execution_count": 55
        },
        {
          "output_type": "display_data",
          "data": {
            "image/png": "[encoded data removed]",
            "text/plain": [
              "<Figure size 432x288 with 1 Axes>"
            ]
          },
          "metadata": {
            "tags": [],
            "needs_background": "light"
          }
        }
      ]
    },
    {
      "cell_type": "code",
      "metadata": {
        "colab": {
          "base_uri": "https://localhost:8080/",
          "height": 400
        },
        "id": "MWVMcrVW8PI8",
        "outputId": "1740dc08-213d-479e-8e8b-6c2680ddf69b"
      },
      "source": [
        "sns.lmplot(x='Media', y='Salario', data=dados, x_estimator=np.mean)"
      ],
      "execution_count": 56,
      "outputs": [
        {
          "output_type": "execute_result",
          "data": {
            "text/plain": [
              "<seaborn.axisgrid.FacetGrid at 0x7f8d1021f6d8>"
            ]
          },
          "metadata": {
            "tags": []
          },
          "execution_count": 56
        },
        {
          "output_type": "display_data",
          "data": {
            "image/png": "[encoded data removed]",
            "text/plain": [
              "<Figure size 360x360 with 1 Axes>"
            ]
          },
          "metadata": {
            "tags": [],
            "needs_background": "light"
          }
        }
      ]
    },
    {
      "cell_type": "code",
      "metadata": {
        "colab": {
          "base_uri": "https://localhost:8080/",
          "height": 458
        },
        "id": "fUXwDDQB8lcO",
        "outputId": "0940c2a1-9739-4645-eb9e-a842e1d8ad24"
      },
      "source": [
        "sns.jointplot(x='Potencial', y='Salario', data=dados, kind='reg')"
      ],
      "execution_count": 57,
      "outputs": [
        {
          "output_type": "execute_result",
          "data": {
            "text/plain": [
              "<seaborn.axisgrid.JointGrid at 0x7f8d1034d470>"
            ]
          },
          "metadata": {
            "tags": []
          },
          "execution_count": 57
        },
        {
          "output_type": "display_data",
          "data": {
            "image/png": "[encoded data removed]",
            "text/plain": [
              "<Figure size 432x432 with 3 Axes>"
            ]
          },
          "metadata": {
            "tags": [],
            "needs_background": "light"
          }
        }
      ]
    },
    {
      "cell_type": "code",
      "metadata": {
        "id": "MQ_fBNXh8znH"
      },
      "source": [
        ""
      ],
      "execution_count": null,
      "outputs": []
    }
  ]
}