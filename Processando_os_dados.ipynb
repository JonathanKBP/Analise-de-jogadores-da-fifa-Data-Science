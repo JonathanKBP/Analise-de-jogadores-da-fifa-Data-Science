{
  "nbformat": 4,
  "nbformat_minor": 0,
  "metadata": {
    "colab": {
      "name": "Processando os dados - Semana Data Science.ipynb",
      "provenance": [],
      "collapsed_sections": [],
      "authorship_tag": "ABX9TyN3+/g/RUa9ZAuSK3ku7vDg",
      "include_colab_link": true
    },
    "kernelspec": {
      "name": "python3",
      "display_name": "Python 3"
    }
  },
  "cells": [
    {
      "cell_type": "markdown",
      "metadata": {
        "id": "view-in-github",
        "colab_type": "text"
      },
      "source": [
        "<a href=\"https://colab.research.google.com/github/JonathanKBP/Analise-de-jogadores-da-fifa-Data-Science/blob/main/Processando_os_dados.ipynb\" target=\"_parent\"><img src=\"https://colab.research.google.com/assets/colab-badge.svg\" alt=\"Open In Colab\"/></a>"
      ]
    },
    {
      "cell_type": "markdown",
      "metadata": {
        "id": "UUuLaSwCmHmK"
      },
      "source": [
        "# **Conhecer os dados**"
      ]
    },
    {
      "cell_type": "code",
      "metadata": {
        "id": "ISakND2Ml-kP"
      },
      "source": [
        "import pandas as pd"
      ],
      "execution_count": 1,
      "outputs": []
    },
    {
      "cell_type": "code",
      "metadata": {
        "id": "8Cu9nFJWmXrL"
      },
      "source": [
        "dados = pd.read_csv('sds_fifa.csv', index_col=[0])"
      ],
      "execution_count": 27,
      "outputs": []
    },
    {
      "cell_type": "code",
      "metadata": {
        "colab": {
          "base_uri": "https://localhost:8080/",
          "height": 419
        },
        "id": "GOQTTVEvm0iO",
        "outputId": "9444209a-89bd-41a3-cb69-1e38b0b2fbb1"
      },
      "source": [
        "dados"
      ],
      "execution_count": 28,
      "outputs": [
        {
          "output_type": "execute_result",
          "data": {
            "text/html": [
              "<div>\n",
              "<style scoped>\n",
              "    .dataframe tbody tr th:only-of-type {\n",
              "        vertical-align: middle;\n",
              "    }\n",
              "\n",
              "    .dataframe tbody tr th {\n",
              "        vertical-align: top;\n",
              "    }\n",
              "\n",
              "    .dataframe thead th {\n",
              "        text-align: right;\n",
              "    }\n",
              "</style>\n",
              "<table border=\"1\" class=\"dataframe\">\n",
              "  <thead>\n",
              "    <tr style=\"text-align: right;\">\n",
              "      <th></th>\n",
              "      <th>Nome</th>\n",
              "      <th>Idade</th>\n",
              "      <th>Posicao</th>\n",
              "      <th>Media</th>\n",
              "      <th>Potencial</th>\n",
              "      <th>Time</th>\n",
              "      <th>Salario</th>\n",
              "      <th>Total_Pontos</th>\n",
              "    </tr>\n",
              "  </thead>\n",
              "  <tbody>\n",
              "    <tr>\n",
              "      <th>0</th>\n",
              "      <td>V. Thill</td>\n",
              "      <td>20</td>\n",
              "      <td>RW</td>\n",
              "      <td>63</td>\n",
              "      <td>77</td>\n",
              "      <td>CD Nacional</td>\n",
              "      <td>€2K</td>\n",
              "      <td>1551</td>\n",
              "    </tr>\n",
              "    <tr>\n",
              "      <th>1</th>\n",
              "      <td>S. Wamangituka</td>\n",
              "      <td>20</td>\n",
              "      <td>RM</td>\n",
              "      <td>72</td>\n",
              "      <td>83</td>\n",
              "      <td>VfB Stuttgart</td>\n",
              "      <td>€13K</td>\n",
              "      <td>1847</td>\n",
              "    </tr>\n",
              "    <tr>\n",
              "      <th>2</th>\n",
              "      <td>14 A. Wolf</td>\n",
              "      <td>31</td>\n",
              "      <td>CB</td>\n",
              "      <td>73</td>\n",
              "      <td>73</td>\n",
              "      <td>AS Monaco</td>\n",
              "      <td>€30K</td>\n",
              "      <td>1621</td>\n",
              "    </tr>\n",
              "    <tr>\n",
              "      <th>3</th>\n",
              "      <td>N. De la Cruz</td>\n",
              "      <td>23</td>\n",
              "      <td>CM</td>\n",
              "      <td>78</td>\n",
              "      <td>85</td>\n",
              "      <td>River Plate</td>\n",
              "      <td>€17K</td>\n",
              "      <td>2180</td>\n",
              "    </tr>\n",
              "    <tr>\n",
              "      <th>4</th>\n",
              "      <td>Isco</td>\n",
              "      <td>28</td>\n",
              "      <td>CAM</td>\n",
              "      <td>83</td>\n",
              "      <td>83</td>\n",
              "      <td>Real Madrid</td>\n",
              "      <td>€190K</td>\n",
              "      <td>2077</td>\n",
              "    </tr>\n",
              "    <tr>\n",
              "      <th>...</th>\n",
              "      <td>...</td>\n",
              "      <td>...</td>\n",
              "      <td>...</td>\n",
              "      <td>...</td>\n",
              "      <td>...</td>\n",
              "      <td>...</td>\n",
              "      <td>...</td>\n",
              "      <td>...</td>\n",
              "    </tr>\n",
              "    <tr>\n",
              "      <th>2995</th>\n",
              "      <td>T. Souček</td>\n",
              "      <td>25</td>\n",
              "      <td>CDM</td>\n",
              "      <td>81</td>\n",
              "      <td>86</td>\n",
              "      <td>West Ham United</td>\n",
              "      <td>€46K</td>\n",
              "      <td>2075</td>\n",
              "    </tr>\n",
              "    <tr>\n",
              "      <th>2996</th>\n",
              "      <td>Rúben Dias</td>\n",
              "      <td>23</td>\n",
              "      <td>CB</td>\n",
              "      <td>82</td>\n",
              "      <td>87</td>\n",
              "      <td>Manchester City</td>\n",
              "      <td>€110K</td>\n",
              "      <td>1777</td>\n",
              "    </tr>\n",
              "    <tr>\n",
              "      <th>2997</th>\n",
              "      <td>P. Foden</td>\n",
              "      <td>20</td>\n",
              "      <td>CAM</td>\n",
              "      <td>81</td>\n",
              "      <td>91</td>\n",
              "      <td>Manchester City</td>\n",
              "      <td>€95K</td>\n",
              "      <td>1997</td>\n",
              "    </tr>\n",
              "    <tr>\n",
              "      <th>2998</th>\n",
              "      <td>Nuno Tavares</td>\n",
              "      <td>20</td>\n",
              "      <td>LB</td>\n",
              "      <td>73</td>\n",
              "      <td>86</td>\n",
              "      <td>SL Benfica</td>\n",
              "      <td>€7K</td>\n",
              "      <td>1900</td>\n",
              "    </tr>\n",
              "    <tr>\n",
              "      <th>2999</th>\n",
              "      <td>M. Kudus</td>\n",
              "      <td>19</td>\n",
              "      <td>CAM</td>\n",
              "      <td>77</td>\n",
              "      <td>87</td>\n",
              "      <td>Ajax</td>\n",
              "      <td>€10K</td>\n",
              "      <td>2015</td>\n",
              "    </tr>\n",
              "  </tbody>\n",
              "</table>\n",
              "<p>3000 rows × 8 columns</p>\n",
              "</div>"
            ],
            "text/plain": [
              "                 Nome  Idade Posicao  ...             Time  Salario Total_Pontos\n",
              "0            V. Thill     20      RW  ...      CD Nacional      €2K         1551\n",
              "1      S. Wamangituka     20      RM  ...    VfB Stuttgart     €13K         1847\n",
              "2          14 A. Wolf     31      CB  ...        AS Monaco     €30K         1621\n",
              "3       N. De la Cruz     23      CM  ...      River Plate     €17K         2180\n",
              "4                Isco     28     CAM  ...      Real Madrid    €190K         2077\n",
              "...               ...    ...     ...  ...              ...      ...          ...\n",
              "2995        T. Souček     25     CDM  ...  West Ham United     €46K         2075\n",
              "2996       Rúben Dias     23      CB  ...  Manchester City    €110K         1777\n",
              "2997         P. Foden     20     CAM  ...  Manchester City     €95K         1997\n",
              "2998     Nuno Tavares     20      LB  ...       SL Benfica      €7K         1900\n",
              "2999         M. Kudus     19     CAM  ...             Ajax     €10K         2015\n",
              "\n",
              "[3000 rows x 8 columns]"
            ]
          },
          "metadata": {
            "tags": []
          },
          "execution_count": 28
        }
      ]
    },
    {
      "cell_type": "code",
      "metadata": {
        "colab": {
          "base_uri": "https://localhost:8080/",
          "height": 204
        },
        "id": "-s-_3IRIm3II",
        "outputId": "366d7d27-b43b-484a-cb0d-823ae4bd30e8"
      },
      "source": [
        "# Pegar o cabeçalho\r\n",
        "dados.head()"
      ],
      "execution_count": 29,
      "outputs": [
        {
          "output_type": "execute_result",
          "data": {
            "text/html": [
              "<div>\n",
              "<style scoped>\n",
              "    .dataframe tbody tr th:only-of-type {\n",
              "        vertical-align: middle;\n",
              "    }\n",
              "\n",
              "    .dataframe tbody tr th {\n",
              "        vertical-align: top;\n",
              "    }\n",
              "\n",
              "    .dataframe thead th {\n",
              "        text-align: right;\n",
              "    }\n",
              "</style>\n",
              "<table border=\"1\" class=\"dataframe\">\n",
              "  <thead>\n",
              "    <tr style=\"text-align: right;\">\n",
              "      <th></th>\n",
              "      <th>Nome</th>\n",
              "      <th>Idade</th>\n",
              "      <th>Posicao</th>\n",
              "      <th>Media</th>\n",
              "      <th>Potencial</th>\n",
              "      <th>Time</th>\n",
              "      <th>Salario</th>\n",
              "      <th>Total_Pontos</th>\n",
              "    </tr>\n",
              "  </thead>\n",
              "  <tbody>\n",
              "    <tr>\n",
              "      <th>0</th>\n",
              "      <td>V. Thill</td>\n",
              "      <td>20</td>\n",
              "      <td>RW</td>\n",
              "      <td>63</td>\n",
              "      <td>77</td>\n",
              "      <td>CD Nacional</td>\n",
              "      <td>€2K</td>\n",
              "      <td>1551</td>\n",
              "    </tr>\n",
              "    <tr>\n",
              "      <th>1</th>\n",
              "      <td>S. Wamangituka</td>\n",
              "      <td>20</td>\n",
              "      <td>RM</td>\n",
              "      <td>72</td>\n",
              "      <td>83</td>\n",
              "      <td>VfB Stuttgart</td>\n",
              "      <td>€13K</td>\n",
              "      <td>1847</td>\n",
              "    </tr>\n",
              "    <tr>\n",
              "      <th>2</th>\n",
              "      <td>14 A. Wolf</td>\n",
              "      <td>31</td>\n",
              "      <td>CB</td>\n",
              "      <td>73</td>\n",
              "      <td>73</td>\n",
              "      <td>AS Monaco</td>\n",
              "      <td>€30K</td>\n",
              "      <td>1621</td>\n",
              "    </tr>\n",
              "    <tr>\n",
              "      <th>3</th>\n",
              "      <td>N. De la Cruz</td>\n",
              "      <td>23</td>\n",
              "      <td>CM</td>\n",
              "      <td>78</td>\n",
              "      <td>85</td>\n",
              "      <td>River Plate</td>\n",
              "      <td>€17K</td>\n",
              "      <td>2180</td>\n",
              "    </tr>\n",
              "    <tr>\n",
              "      <th>4</th>\n",
              "      <td>Isco</td>\n",
              "      <td>28</td>\n",
              "      <td>CAM</td>\n",
              "      <td>83</td>\n",
              "      <td>83</td>\n",
              "      <td>Real Madrid</td>\n",
              "      <td>€190K</td>\n",
              "      <td>2077</td>\n",
              "    </tr>\n",
              "  </tbody>\n",
              "</table>\n",
              "</div>"
            ],
            "text/plain": [
              "              Nome  Idade Posicao  ...           Time  Salario Total_Pontos\n",
              "0         V. Thill     20      RW  ...    CD Nacional      €2K         1551\n",
              "1   S. Wamangituka     20      RM  ...  VfB Stuttgart     €13K         1847\n",
              "2       14 A. Wolf     31      CB  ...      AS Monaco     €30K         1621\n",
              "3    N. De la Cruz     23      CM  ...    River Plate     €17K         2180\n",
              "4             Isco     28     CAM  ...    Real Madrid    €190K         2077\n",
              "\n",
              "[5 rows x 8 columns]"
            ]
          },
          "metadata": {
            "tags": []
          },
          "execution_count": 29
        }
      ]
    },
    {
      "cell_type": "code",
      "metadata": {
        "colab": {
          "base_uri": "https://localhost:8080/",
          "height": 204
        },
        "id": "pSv4Wrwgu2hW",
        "outputId": "d97ea579-7ed8-4e1b-ee96-78e10b65a01f"
      },
      "source": [
        "# Pega os últimos dados\r\n",
        "dados.tail()"
      ],
      "execution_count": 11,
      "outputs": [
        {
          "output_type": "execute_result",
          "data": {
            "text/html": [
              "<div>\n",
              "<style scoped>\n",
              "    .dataframe tbody tr th:only-of-type {\n",
              "        vertical-align: middle;\n",
              "    }\n",
              "\n",
              "    .dataframe tbody tr th {\n",
              "        vertical-align: top;\n",
              "    }\n",
              "\n",
              "    .dataframe thead th {\n",
              "        text-align: right;\n",
              "    }\n",
              "</style>\n",
              "<table border=\"1\" class=\"dataframe\">\n",
              "  <thead>\n",
              "    <tr style=\"text-align: right;\">\n",
              "      <th></th>\n",
              "      <th>Nome</th>\n",
              "      <th>Idade</th>\n",
              "      <th>Posicao</th>\n",
              "      <th>Media</th>\n",
              "      <th>Potencial</th>\n",
              "      <th>Time</th>\n",
              "      <th>Salaria</th>\n",
              "      <th>Total_Pontos</th>\n",
              "    </tr>\n",
              "  </thead>\n",
              "  <tbody>\n",
              "    <tr>\n",
              "      <th>2995</th>\n",
              "      <td>P. De la Vega</td>\n",
              "      <td>19</td>\n",
              "      <td>RW</td>\n",
              "      <td>74</td>\n",
              "      <td>88</td>\n",
              "      <td>Club Atlético Lanús</td>\n",
              "      <td>€11K</td>\n",
              "      <td>1981</td>\n",
              "    </tr>\n",
              "    <tr>\n",
              "      <th>2996</th>\n",
              "      <td>T. Almada</td>\n",
              "      <td>19</td>\n",
              "      <td>CAM</td>\n",
              "      <td>74</td>\n",
              "      <td>88</td>\n",
              "      <td>Vélez Sarsfield</td>\n",
              "      <td>€9K</td>\n",
              "      <td>2001</td>\n",
              "    </tr>\n",
              "    <tr>\n",
              "      <th>2997</th>\n",
              "      <td>D. Rice</td>\n",
              "      <td>21</td>\n",
              "      <td>CDM</td>\n",
              "      <td>79</td>\n",
              "      <td>86</td>\n",
              "      <td>West Ham United</td>\n",
              "      <td>€31K</td>\n",
              "      <td>1823</td>\n",
              "    </tr>\n",
              "    <tr>\n",
              "      <th>2998</th>\n",
              "      <td>P. Foden</td>\n",
              "      <td>20</td>\n",
              "      <td>CAM</td>\n",
              "      <td>81</td>\n",
              "      <td>91</td>\n",
              "      <td>Manchester City</td>\n",
              "      <td>€95K</td>\n",
              "      <td>1997</td>\n",
              "    </tr>\n",
              "    <tr>\n",
              "      <th>2999</th>\n",
              "      <td>D. Szoboszlai</td>\n",
              "      <td>19</td>\n",
              "      <td>CAM</td>\n",
              "      <td>77</td>\n",
              "      <td>87</td>\n",
              "      <td>RB Leipzig</td>\n",
              "      <td>€27K</td>\n",
              "      <td>1967</td>\n",
              "    </tr>\n",
              "  </tbody>\n",
              "</table>\n",
              "</div>"
            ],
            "text/plain": [
              "                Nome  Idade Posicao  ...                 Time  Salaria Total_Pontos\n",
              "2995   P. De la Vega     19      RW  ...  Club Atlético Lanús     €11K         1981\n",
              "2996       T. Almada     19     CAM  ...      Vélez Sarsfield      €9K         2001\n",
              "2997         D. Rice     21     CDM  ...      West Ham United     €31K         1823\n",
              "2998        P. Foden     20     CAM  ...      Manchester City     €95K         1997\n",
              "2999   D. Szoboszlai     19     CAM  ...           RB Leipzig     €27K         1967\n",
              "\n",
              "[5 rows x 8 columns]"
            ]
          },
          "metadata": {
            "tags": []
          },
          "execution_count": 11
        }
      ]
    },
    {
      "cell_type": "code",
      "metadata": {
        "colab": {
          "base_uri": "https://localhost:8080/",
          "height": 421
        },
        "id": "hsWgC_CQu9R9",
        "outputId": "b8a477be-5540-47e7-e7e7-5bfbfdf0b571"
      },
      "source": [
        "# Pegar amostra aleatória\r\n",
        "dados.sample(12) "
      ],
      "execution_count": 13,
      "outputs": [
        {
          "output_type": "execute_result",
          "data": {
            "text/html": [
              "<div>\n",
              "<style scoped>\n",
              "    .dataframe tbody tr th:only-of-type {\n",
              "        vertical-align: middle;\n",
              "    }\n",
              "\n",
              "    .dataframe tbody tr th {\n",
              "        vertical-align: top;\n",
              "    }\n",
              "\n",
              "    .dataframe thead th {\n",
              "        text-align: right;\n",
              "    }\n",
              "</style>\n",
              "<table border=\"1\" class=\"dataframe\">\n",
              "  <thead>\n",
              "    <tr style=\"text-align: right;\">\n",
              "      <th></th>\n",
              "      <th>Nome</th>\n",
              "      <th>Idade</th>\n",
              "      <th>Posicao</th>\n",
              "      <th>Media</th>\n",
              "      <th>Potencial</th>\n",
              "      <th>Time</th>\n",
              "      <th>Salaria</th>\n",
              "      <th>Total_Pontos</th>\n",
              "    </tr>\n",
              "  </thead>\n",
              "  <tbody>\n",
              "    <tr>\n",
              "      <th>2454</th>\n",
              "      <td>P. De la Vega</td>\n",
              "      <td>19</td>\n",
              "      <td>RW</td>\n",
              "      <td>74</td>\n",
              "      <td>88</td>\n",
              "      <td>Club Atlético Lanús</td>\n",
              "      <td>€11K</td>\n",
              "      <td>1981</td>\n",
              "    </tr>\n",
              "    <tr>\n",
              "      <th>1074</th>\n",
              "      <td>P. De la Vega</td>\n",
              "      <td>19</td>\n",
              "      <td>RW</td>\n",
              "      <td>74</td>\n",
              "      <td>88</td>\n",
              "      <td>Club Atlético Lanús</td>\n",
              "      <td>€11K</td>\n",
              "      <td>1981</td>\n",
              "    </tr>\n",
              "    <tr>\n",
              "      <th>382</th>\n",
              "      <td>R. Gravenberch</td>\n",
              "      <td>18</td>\n",
              "      <td>CM</td>\n",
              "      <td>75</td>\n",
              "      <td>89</td>\n",
              "      <td>Ajax</td>\n",
              "      <td>€6K</td>\n",
              "      <td>2016</td>\n",
              "    </tr>\n",
              "    <tr>\n",
              "      <th>2158</th>\n",
              "      <td>P. Foden</td>\n",
              "      <td>20</td>\n",
              "      <td>CAM</td>\n",
              "      <td>81</td>\n",
              "      <td>91</td>\n",
              "      <td>Manchester City</td>\n",
              "      <td>€95K</td>\n",
              "      <td>1997</td>\n",
              "    </tr>\n",
              "    <tr>\n",
              "      <th>1496</th>\n",
              "      <td>T. Almada</td>\n",
              "      <td>19</td>\n",
              "      <td>CAM</td>\n",
              "      <td>74</td>\n",
              "      <td>88</td>\n",
              "      <td>Vélez Sarsfield</td>\n",
              "      <td>€9K</td>\n",
              "      <td>2001</td>\n",
              "    </tr>\n",
              "    <tr>\n",
              "      <th>2886</th>\n",
              "      <td>Y. Bissouma</td>\n",
              "      <td>23</td>\n",
              "      <td>CM</td>\n",
              "      <td>76</td>\n",
              "      <td>83</td>\n",
              "      <td>Brighton &amp; Hove Albion</td>\n",
              "      <td>€44K</td>\n",
              "      <td>2024</td>\n",
              "    </tr>\n",
              "    <tr>\n",
              "      <th>2559</th>\n",
              "      <td>Ansu Fati</td>\n",
              "      <td>17</td>\n",
              "      <td>LW</td>\n",
              "      <td>76</td>\n",
              "      <td>90</td>\n",
              "      <td>FC Barcelona</td>\n",
              "      <td>€24K</td>\n",
              "      <td>1817</td>\n",
              "    </tr>\n",
              "    <tr>\n",
              "      <th>8</th>\n",
              "      <td>10 M. Jackson</td>\n",
              "      <td>35</td>\n",
              "      <td>CB</td>\n",
              "      <td>59</td>\n",
              "      <td>70</td>\n",
              "      <td>NaN</td>\n",
              "      <td>€0</td>\n",
              "      <td>1023</td>\n",
              "    </tr>\n",
              "    <tr>\n",
              "      <th>2289</th>\n",
              "      <td>X. Simons</td>\n",
              "      <td>17</td>\n",
              "      <td>CM</td>\n",
              "      <td>65</td>\n",
              "      <td>85</td>\n",
              "      <td>Paris Saint-Germain</td>\n",
              "      <td>€2K</td>\n",
              "      <td>1656</td>\n",
              "    </tr>\n",
              "    <tr>\n",
              "      <th>1501</th>\n",
              "      <td>A. Bella-Kotchap</td>\n",
              "      <td>18</td>\n",
              "      <td>CB</td>\n",
              "      <td>67</td>\n",
              "      <td>85</td>\n",
              "      <td>VfL Bochum 1848</td>\n",
              "      <td>€2K</td>\n",
              "      <td>1439</td>\n",
              "    </tr>\n",
              "    <tr>\n",
              "      <th>763</th>\n",
              "      <td>F. Wirtz</td>\n",
              "      <td>17</td>\n",
              "      <td>CAM</td>\n",
              "      <td>75</td>\n",
              "      <td>88</td>\n",
              "      <td>Bayer 04 Leverkusen</td>\n",
              "      <td>€7K</td>\n",
              "      <td>1876</td>\n",
              "    </tr>\n",
              "    <tr>\n",
              "      <th>444</th>\n",
              "      <td>Marcos Antonio</td>\n",
              "      <td>20</td>\n",
              "      <td>CM</td>\n",
              "      <td>73</td>\n",
              "      <td>86</td>\n",
              "      <td>Shakhtar Donetsk</td>\n",
              "      <td>€650</td>\n",
              "      <td>1851</td>\n",
              "    </tr>\n",
              "  </tbody>\n",
              "</table>\n",
              "</div>"
            ],
            "text/plain": [
              "                   Nome  Idade  ... Salaria  Total_Pontos\n",
              "2454      P. De la Vega     19  ...    €11K          1981\n",
              "1074      P. De la Vega     19  ...    €11K          1981\n",
              "382      R. Gravenberch     18  ...     €6K          2016\n",
              "2158           P. Foden     20  ...    €95K          1997\n",
              "1496          T. Almada     19  ...     €9K          2001\n",
              "2886        Y. Bissouma     23  ...    €44K          2024\n",
              "2559          Ansu Fati     17  ...    €24K          1817\n",
              "8         10 M. Jackson     35  ...      €0          1023\n",
              "2289          X. Simons     17  ...     €2K          1656\n",
              "1501   A. Bella-Kotchap     18  ...     €2K          1439\n",
              "763            F. Wirtz     17  ...     €7K          1876\n",
              "444      Marcos Antonio     20  ...    €650          1851\n",
              "\n",
              "[12 rows x 8 columns]"
            ]
          },
          "metadata": {
            "tags": []
          },
          "execution_count": 13
        }
      ]
    },
    {
      "cell_type": "code",
      "metadata": {
        "colab": {
          "base_uri": "https://localhost:8080/"
        },
        "id": "fRyMTsGpvhJi",
        "outputId": "8e1a824f-d6ad-404d-d5dd-a7d3229932e1"
      },
      "source": [
        "# Tirar as informações dos dados\r\n",
        "dados.info()"
      ],
      "execution_count": 14,
      "outputs": [
        {
          "output_type": "stream",
          "text": [
            "<class 'pandas.core.frame.DataFrame'>\n",
            "Int64Index: 3000 entries, 0 to 2999\n",
            "Data columns (total 8 columns):\n",
            " #   Column        Non-Null Count  Dtype \n",
            "---  ------        --------------  ----- \n",
            " 0   Nome          3000 non-null   object\n",
            " 1   Idade         3000 non-null   int64 \n",
            " 2   Posicao       3000 non-null   object\n",
            " 3   Media         3000 non-null   int64 \n",
            " 4   Potencial     3000 non-null   int64 \n",
            " 5   Time          2951 non-null   object\n",
            " 6   Salaria       3000 non-null   object\n",
            " 7   Total_Pontos  3000 non-null   int64 \n",
            "dtypes: int64(4), object(4)\n",
            "memory usage: 210.9+ KB\n"
          ],
          "name": "stdout"
        }
      ]
    },
    {
      "cell_type": "code",
      "metadata": {
        "colab": {
          "base_uri": "https://localhost:8080/",
          "height": 297
        },
        "id": "-PQQ5ZwvvprM",
        "outputId": "b79a6800-9591-4992-cc4c-47a83e881891"
      },
      "source": [
        "# Tirar as inforções numéricas\r\n",
        "dados.describe()"
      ],
      "execution_count": 15,
      "outputs": [
        {
          "output_type": "execute_result",
          "data": {
            "text/html": [
              "<div>\n",
              "<style scoped>\n",
              "    .dataframe tbody tr th:only-of-type {\n",
              "        vertical-align: middle;\n",
              "    }\n",
              "\n",
              "    .dataframe tbody tr th {\n",
              "        vertical-align: top;\n",
              "    }\n",
              "\n",
              "    .dataframe thead th {\n",
              "        text-align: right;\n",
              "    }\n",
              "</style>\n",
              "<table border=\"1\" class=\"dataframe\">\n",
              "  <thead>\n",
              "    <tr style=\"text-align: right;\">\n",
              "      <th></th>\n",
              "      <th>Idade</th>\n",
              "      <th>Media</th>\n",
              "      <th>Potencial</th>\n",
              "      <th>Total_Pontos</th>\n",
              "    </tr>\n",
              "  </thead>\n",
              "  <tbody>\n",
              "    <tr>\n",
              "      <th>count</th>\n",
              "      <td>3000.000000</td>\n",
              "      <td>3000.000000</td>\n",
              "      <td>3000.000000</td>\n",
              "      <td>3000.000000</td>\n",
              "    </tr>\n",
              "    <tr>\n",
              "      <th>mean</th>\n",
              "      <td>21.381333</td>\n",
              "      <td>76.036333</td>\n",
              "      <td>85.669000</td>\n",
              "      <td>1874.937333</td>\n",
              "    </tr>\n",
              "    <tr>\n",
              "      <th>std</th>\n",
              "      <td>4.511101</td>\n",
              "      <td>6.626637</td>\n",
              "      <td>5.167753</td>\n",
              "      <td>219.029170</td>\n",
              "    </tr>\n",
              "    <tr>\n",
              "      <th>min</th>\n",
              "      <td>16.000000</td>\n",
              "      <td>59.000000</td>\n",
              "      <td>67.000000</td>\n",
              "      <td>911.000000</td>\n",
              "    </tr>\n",
              "    <tr>\n",
              "      <th>25%</th>\n",
              "      <td>18.000000</td>\n",
              "      <td>72.000000</td>\n",
              "      <td>85.000000</td>\n",
              "      <td>1757.500000</td>\n",
              "    </tr>\n",
              "    <tr>\n",
              "      <th>50%</th>\n",
              "      <td>20.000000</td>\n",
              "      <td>76.000000</td>\n",
              "      <td>87.000000</td>\n",
              "      <td>1881.000000</td>\n",
              "    </tr>\n",
              "    <tr>\n",
              "      <th>75%</th>\n",
              "      <td>23.000000</td>\n",
              "      <td>80.000000</td>\n",
              "      <td>88.000000</td>\n",
              "      <td>2014.000000</td>\n",
              "    </tr>\n",
              "    <tr>\n",
              "      <th>max</th>\n",
              "      <td>35.000000</td>\n",
              "      <td>93.000000</td>\n",
              "      <td>95.000000</td>\n",
              "      <td>2336.000000</td>\n",
              "    </tr>\n",
              "  </tbody>\n",
              "</table>\n",
              "</div>"
            ],
            "text/plain": [
              "             Idade        Media    Potencial  Total_Pontos\n",
              "count  3000.000000  3000.000000  3000.000000   3000.000000\n",
              "mean     21.381333    76.036333    85.669000   1874.937333\n",
              "std       4.511101     6.626637     5.167753    219.029170\n",
              "min      16.000000    59.000000    67.000000    911.000000\n",
              "25%      18.000000    72.000000    85.000000   1757.500000\n",
              "50%      20.000000    76.000000    87.000000   1881.000000\n",
              "75%      23.000000    80.000000    88.000000   2014.000000\n",
              "max      35.000000    93.000000    95.000000   2336.000000"
            ]
          },
          "metadata": {
            "tags": []
          },
          "execution_count": 15
        }
      ]
    },
    {
      "cell_type": "code",
      "metadata": {
        "colab": {
          "base_uri": "https://localhost:8080/",
          "height": 173
        },
        "id": "hktQnDiRv7vN",
        "outputId": "06aa1aad-906e-45fe-e273-c4eb118391c1"
      },
      "source": [
        "# Tirar as inforções numéricas invertendo linha por coluna\r\n",
        "dados.describe().T"
      ],
      "execution_count": 16,
      "outputs": [
        {
          "output_type": "execute_result",
          "data": {
            "text/html": [
              "<div>\n",
              "<style scoped>\n",
              "    .dataframe tbody tr th:only-of-type {\n",
              "        vertical-align: middle;\n",
              "    }\n",
              "\n",
              "    .dataframe tbody tr th {\n",
              "        vertical-align: top;\n",
              "    }\n",
              "\n",
              "    .dataframe thead th {\n",
              "        text-align: right;\n",
              "    }\n",
              "</style>\n",
              "<table border=\"1\" class=\"dataframe\">\n",
              "  <thead>\n",
              "    <tr style=\"text-align: right;\">\n",
              "      <th></th>\n",
              "      <th>count</th>\n",
              "      <th>mean</th>\n",
              "      <th>std</th>\n",
              "      <th>min</th>\n",
              "      <th>25%</th>\n",
              "      <th>50%</th>\n",
              "      <th>75%</th>\n",
              "      <th>max</th>\n",
              "    </tr>\n",
              "  </thead>\n",
              "  <tbody>\n",
              "    <tr>\n",
              "      <th>Idade</th>\n",
              "      <td>3000.0</td>\n",
              "      <td>21.381333</td>\n",
              "      <td>4.511101</td>\n",
              "      <td>16.0</td>\n",
              "      <td>18.0</td>\n",
              "      <td>20.0</td>\n",
              "      <td>23.0</td>\n",
              "      <td>35.0</td>\n",
              "    </tr>\n",
              "    <tr>\n",
              "      <th>Media</th>\n",
              "      <td>3000.0</td>\n",
              "      <td>76.036333</td>\n",
              "      <td>6.626637</td>\n",
              "      <td>59.0</td>\n",
              "      <td>72.0</td>\n",
              "      <td>76.0</td>\n",
              "      <td>80.0</td>\n",
              "      <td>93.0</td>\n",
              "    </tr>\n",
              "    <tr>\n",
              "      <th>Potencial</th>\n",
              "      <td>3000.0</td>\n",
              "      <td>85.669000</td>\n",
              "      <td>5.167753</td>\n",
              "      <td>67.0</td>\n",
              "      <td>85.0</td>\n",
              "      <td>87.0</td>\n",
              "      <td>88.0</td>\n",
              "      <td>95.0</td>\n",
              "    </tr>\n",
              "    <tr>\n",
              "      <th>Total_Pontos</th>\n",
              "      <td>3000.0</td>\n",
              "      <td>1874.937333</td>\n",
              "      <td>219.029170</td>\n",
              "      <td>911.0</td>\n",
              "      <td>1757.5</td>\n",
              "      <td>1881.0</td>\n",
              "      <td>2014.0</td>\n",
              "      <td>2336.0</td>\n",
              "    </tr>\n",
              "  </tbody>\n",
              "</table>\n",
              "</div>"
            ],
            "text/plain": [
              "               count         mean         std  ...     50%     75%     max\n",
              "Idade         3000.0    21.381333    4.511101  ...    20.0    23.0    35.0\n",
              "Media         3000.0    76.036333    6.626637  ...    76.0    80.0    93.0\n",
              "Potencial     3000.0    85.669000    5.167753  ...    87.0    88.0    95.0\n",
              "Total_Pontos  3000.0  1874.937333  219.029170  ...  1881.0  2014.0  2336.0\n",
              "\n",
              "[4 rows x 8 columns]"
            ]
          },
          "metadata": {
            "tags": []
          },
          "execution_count": 16
        }
      ]
    },
    {
      "cell_type": "markdown",
      "metadata": {
        "id": "1GbspAGZwdwh"
      },
      "source": [
        "# **Traformar/Processar os nossos dados**"
      ]
    },
    {
      "cell_type": "code",
      "metadata": {
        "id": "fCr5jNg4wI1u"
      },
      "source": [
        "# Eliminando o € do salário\r\n",
        "dados['Salario'] = dados['Salario'].str.replace('€', '')"
      ],
      "execution_count": 30,
      "outputs": []
    },
    {
      "cell_type": "code",
      "metadata": {
        "colab": {
          "base_uri": "https://localhost:8080/",
          "height": 419
        },
        "id": "qJ_xObsryPen",
        "outputId": "0929cfb3-cfe3-4eb4-8733-f0de55e995ef"
      },
      "source": [
        "dados"
      ],
      "execution_count": 31,
      "outputs": [
        {
          "output_type": "execute_result",
          "data": {
            "text/html": [
              "<div>\n",
              "<style scoped>\n",
              "    .dataframe tbody tr th:only-of-type {\n",
              "        vertical-align: middle;\n",
              "    }\n",
              "\n",
              "    .dataframe tbody tr th {\n",
              "        vertical-align: top;\n",
              "    }\n",
              "\n",
              "    .dataframe thead th {\n",
              "        text-align: right;\n",
              "    }\n",
              "</style>\n",
              "<table border=\"1\" class=\"dataframe\">\n",
              "  <thead>\n",
              "    <tr style=\"text-align: right;\">\n",
              "      <th></th>\n",
              "      <th>Nome</th>\n",
              "      <th>Idade</th>\n",
              "      <th>Posicao</th>\n",
              "      <th>Media</th>\n",
              "      <th>Potencial</th>\n",
              "      <th>Time</th>\n",
              "      <th>Salario</th>\n",
              "      <th>Total_Pontos</th>\n",
              "    </tr>\n",
              "  </thead>\n",
              "  <tbody>\n",
              "    <tr>\n",
              "      <th>0</th>\n",
              "      <td>V. Thill</td>\n",
              "      <td>20</td>\n",
              "      <td>RW</td>\n",
              "      <td>63</td>\n",
              "      <td>77</td>\n",
              "      <td>CD Nacional</td>\n",
              "      <td>2K</td>\n",
              "      <td>1551</td>\n",
              "    </tr>\n",
              "    <tr>\n",
              "      <th>1</th>\n",
              "      <td>S. Wamangituka</td>\n",
              "      <td>20</td>\n",
              "      <td>RM</td>\n",
              "      <td>72</td>\n",
              "      <td>83</td>\n",
              "      <td>VfB Stuttgart</td>\n",
              "      <td>13K</td>\n",
              "      <td>1847</td>\n",
              "    </tr>\n",
              "    <tr>\n",
              "      <th>2</th>\n",
              "      <td>14 A. Wolf</td>\n",
              "      <td>31</td>\n",
              "      <td>CB</td>\n",
              "      <td>73</td>\n",
              "      <td>73</td>\n",
              "      <td>AS Monaco</td>\n",
              "      <td>30K</td>\n",
              "      <td>1621</td>\n",
              "    </tr>\n",
              "    <tr>\n",
              "      <th>3</th>\n",
              "      <td>N. De la Cruz</td>\n",
              "      <td>23</td>\n",
              "      <td>CM</td>\n",
              "      <td>78</td>\n",
              "      <td>85</td>\n",
              "      <td>River Plate</td>\n",
              "      <td>17K</td>\n",
              "      <td>2180</td>\n",
              "    </tr>\n",
              "    <tr>\n",
              "      <th>4</th>\n",
              "      <td>Isco</td>\n",
              "      <td>28</td>\n",
              "      <td>CAM</td>\n",
              "      <td>83</td>\n",
              "      <td>83</td>\n",
              "      <td>Real Madrid</td>\n",
              "      <td>190K</td>\n",
              "      <td>2077</td>\n",
              "    </tr>\n",
              "    <tr>\n",
              "      <th>...</th>\n",
              "      <td>...</td>\n",
              "      <td>...</td>\n",
              "      <td>...</td>\n",
              "      <td>...</td>\n",
              "      <td>...</td>\n",
              "      <td>...</td>\n",
              "      <td>...</td>\n",
              "      <td>...</td>\n",
              "    </tr>\n",
              "    <tr>\n",
              "      <th>2995</th>\n",
              "      <td>T. Souček</td>\n",
              "      <td>25</td>\n",
              "      <td>CDM</td>\n",
              "      <td>81</td>\n",
              "      <td>86</td>\n",
              "      <td>West Ham United</td>\n",
              "      <td>46K</td>\n",
              "      <td>2075</td>\n",
              "    </tr>\n",
              "    <tr>\n",
              "      <th>2996</th>\n",
              "      <td>Rúben Dias</td>\n",
              "      <td>23</td>\n",
              "      <td>CB</td>\n",
              "      <td>82</td>\n",
              "      <td>87</td>\n",
              "      <td>Manchester City</td>\n",
              "      <td>110K</td>\n",
              "      <td>1777</td>\n",
              "    </tr>\n",
              "    <tr>\n",
              "      <th>2997</th>\n",
              "      <td>P. Foden</td>\n",
              "      <td>20</td>\n",
              "      <td>CAM</td>\n",
              "      <td>81</td>\n",
              "      <td>91</td>\n",
              "      <td>Manchester City</td>\n",
              "      <td>95K</td>\n",
              "      <td>1997</td>\n",
              "    </tr>\n",
              "    <tr>\n",
              "      <th>2998</th>\n",
              "      <td>Nuno Tavares</td>\n",
              "      <td>20</td>\n",
              "      <td>LB</td>\n",
              "      <td>73</td>\n",
              "      <td>86</td>\n",
              "      <td>SL Benfica</td>\n",
              "      <td>7K</td>\n",
              "      <td>1900</td>\n",
              "    </tr>\n",
              "    <tr>\n",
              "      <th>2999</th>\n",
              "      <td>M. Kudus</td>\n",
              "      <td>19</td>\n",
              "      <td>CAM</td>\n",
              "      <td>77</td>\n",
              "      <td>87</td>\n",
              "      <td>Ajax</td>\n",
              "      <td>10K</td>\n",
              "      <td>2015</td>\n",
              "    </tr>\n",
              "  </tbody>\n",
              "</table>\n",
              "<p>3000 rows × 8 columns</p>\n",
              "</div>"
            ],
            "text/plain": [
              "                 Nome  Idade Posicao  ...             Time  Salario Total_Pontos\n",
              "0            V. Thill     20      RW  ...      CD Nacional       2K         1551\n",
              "1      S. Wamangituka     20      RM  ...    VfB Stuttgart      13K         1847\n",
              "2          14 A. Wolf     31      CB  ...        AS Monaco      30K         1621\n",
              "3       N. De la Cruz     23      CM  ...      River Plate      17K         2180\n",
              "4                Isco     28     CAM  ...      Real Madrid     190K         2077\n",
              "...               ...    ...     ...  ...              ...      ...          ...\n",
              "2995        T. Souček     25     CDM  ...  West Ham United      46K         2075\n",
              "2996       Rúben Dias     23      CB  ...  Manchester City     110K         1777\n",
              "2997         P. Foden     20     CAM  ...  Manchester City      95K         1997\n",
              "2998     Nuno Tavares     20      LB  ...       SL Benfica       7K         1900\n",
              "2999         M. Kudus     19     CAM  ...             Ajax      10K         2015\n",
              "\n",
              "[3000 rows x 8 columns]"
            ]
          },
          "metadata": {
            "tags": []
          },
          "execution_count": 31
        }
      ]
    },
    {
      "cell_type": "code",
      "metadata": {
        "id": "lTSBhA1wyQXn"
      },
      "source": [
        "# Eliminar os dados vazios\r\n",
        "dados = dados.dropna()"
      ],
      "execution_count": 32,
      "outputs": []
    },
    {
      "cell_type": "code",
      "metadata": {
        "colab": {
          "base_uri": "https://localhost:8080/"
        },
        "id": "4BAbQ5zxypjJ",
        "outputId": "fc9440e9-9dfd-4597-aefa-ace3bc19f585"
      },
      "source": [
        "# Pegando dados únicos de salário\r\n",
        "dados['Salario'].unique()"
      ],
      "execution_count": 35,
      "outputs": [
        {
          "output_type": "execute_result",
          "data": {
            "text/plain": [
              "array(['2K', '13K', '30K', '17K', '190K', '82K', '5K', '20K', '6K', '10K',\n",
              "       '290K', '1K', '44K', '25K', '40K', '14K', '67K', '48K', '3K',\n",
              "       '16K', '500', '41K', '95K', '45K', '24K', '560K', '27K', '33K',\n",
              "       '550', '50K', '7K', '9K', '22K', '70K', '11K', '220K', '19K',\n",
              "       '46K', '110K', '135K', '170K', '160K', '270K', '77K', '150K',\n",
              "       '58K', '76K', '240K', '210K', '78K', '4K', '53K', '29K', '23K',\n",
              "       '61K', '38K', '59K', '66K', '90K', '83K', '31K', '36K', '125K',\n",
              "       '71K', '8K'], dtype=object)"
            ]
          },
          "metadata": {
            "tags": []
          },
          "execution_count": 35
        }
      ]
    },
    {
      "cell_type": "code",
      "metadata": {
        "colab": {
          "base_uri": "https://localhost:8080/"
        },
        "id": "_XIvPcZzys0F",
        "outputId": "70540f59-5bab-4235-c518-dc57df6fb546"
      },
      "source": [
        "# Mostrando a quantidade de dados únicos em sálaro\r\n",
        "dados['Salario'].nunique()"
      ],
      "execution_count": 36,
      "outputs": [
        {
          "output_type": "execute_result",
          "data": {
            "text/plain": [
              "65"
            ]
          },
          "metadata": {
            "tags": []
          },
          "execution_count": 36
        }
      ]
    },
    {
      "cell_type": "code",
      "metadata": {
        "id": "vE7a1NhszT3W"
      },
      "source": [
        "# Removendo o K e trocando por 000\r\n",
        "dados['Salario'] = dados['Salario'].str.replace('K', '000')"
      ],
      "execution_count": 41,
      "outputs": []
    },
    {
      "cell_type": "code",
      "metadata": {
        "colab": {
          "base_uri": "https://localhost:8080/",
          "height": 419
        },
        "id": "OhIz69oP0K1P",
        "outputId": "0cb3db68-33f4-44b9-ed9f-1edb1f9fc166"
      },
      "source": [
        "dados"
      ],
      "execution_count": 42,
      "outputs": [
        {
          "output_type": "execute_result",
          "data": {
            "text/html": [
              "<div>\n",
              "<style scoped>\n",
              "    .dataframe tbody tr th:only-of-type {\n",
              "        vertical-align: middle;\n",
              "    }\n",
              "\n",
              "    .dataframe tbody tr th {\n",
              "        vertical-align: top;\n",
              "    }\n",
              "\n",
              "    .dataframe thead th {\n",
              "        text-align: right;\n",
              "    }\n",
              "</style>\n",
              "<table border=\"1\" class=\"dataframe\">\n",
              "  <thead>\n",
              "    <tr style=\"text-align: right;\">\n",
              "      <th></th>\n",
              "      <th>Nome</th>\n",
              "      <th>Idade</th>\n",
              "      <th>Posicao</th>\n",
              "      <th>Media</th>\n",
              "      <th>Potencial</th>\n",
              "      <th>Time</th>\n",
              "      <th>Salario</th>\n",
              "      <th>Total_Pontos</th>\n",
              "    </tr>\n",
              "  </thead>\n",
              "  <tbody>\n",
              "    <tr>\n",
              "      <th>0</th>\n",
              "      <td>V. Thill</td>\n",
              "      <td>20</td>\n",
              "      <td>RW</td>\n",
              "      <td>63</td>\n",
              "      <td>77</td>\n",
              "      <td>CD Nacional</td>\n",
              "      <td>2000</td>\n",
              "      <td>1551</td>\n",
              "    </tr>\n",
              "    <tr>\n",
              "      <th>1</th>\n",
              "      <td>S. Wamangituka</td>\n",
              "      <td>20</td>\n",
              "      <td>RM</td>\n",
              "      <td>72</td>\n",
              "      <td>83</td>\n",
              "      <td>VfB Stuttgart</td>\n",
              "      <td>13000</td>\n",
              "      <td>1847</td>\n",
              "    </tr>\n",
              "    <tr>\n",
              "      <th>2</th>\n",
              "      <td>14 A. Wolf</td>\n",
              "      <td>31</td>\n",
              "      <td>CB</td>\n",
              "      <td>73</td>\n",
              "      <td>73</td>\n",
              "      <td>AS Monaco</td>\n",
              "      <td>30000</td>\n",
              "      <td>1621</td>\n",
              "    </tr>\n",
              "    <tr>\n",
              "      <th>3</th>\n",
              "      <td>N. De la Cruz</td>\n",
              "      <td>23</td>\n",
              "      <td>CM</td>\n",
              "      <td>78</td>\n",
              "      <td>85</td>\n",
              "      <td>River Plate</td>\n",
              "      <td>17000</td>\n",
              "      <td>2180</td>\n",
              "    </tr>\n",
              "    <tr>\n",
              "      <th>4</th>\n",
              "      <td>Isco</td>\n",
              "      <td>28</td>\n",
              "      <td>CAM</td>\n",
              "      <td>83</td>\n",
              "      <td>83</td>\n",
              "      <td>Real Madrid</td>\n",
              "      <td>190000</td>\n",
              "      <td>2077</td>\n",
              "    </tr>\n",
              "    <tr>\n",
              "      <th>...</th>\n",
              "      <td>...</td>\n",
              "      <td>...</td>\n",
              "      <td>...</td>\n",
              "      <td>...</td>\n",
              "      <td>...</td>\n",
              "      <td>...</td>\n",
              "      <td>...</td>\n",
              "      <td>...</td>\n",
              "    </tr>\n",
              "    <tr>\n",
              "      <th>2995</th>\n",
              "      <td>T. Souček</td>\n",
              "      <td>25</td>\n",
              "      <td>CDM</td>\n",
              "      <td>81</td>\n",
              "      <td>86</td>\n",
              "      <td>West Ham United</td>\n",
              "      <td>46000</td>\n",
              "      <td>2075</td>\n",
              "    </tr>\n",
              "    <tr>\n",
              "      <th>2996</th>\n",
              "      <td>Rúben Dias</td>\n",
              "      <td>23</td>\n",
              "      <td>CB</td>\n",
              "      <td>82</td>\n",
              "      <td>87</td>\n",
              "      <td>Manchester City</td>\n",
              "      <td>110000</td>\n",
              "      <td>1777</td>\n",
              "    </tr>\n",
              "    <tr>\n",
              "      <th>2997</th>\n",
              "      <td>P. Foden</td>\n",
              "      <td>20</td>\n",
              "      <td>CAM</td>\n",
              "      <td>81</td>\n",
              "      <td>91</td>\n",
              "      <td>Manchester City</td>\n",
              "      <td>95000</td>\n",
              "      <td>1997</td>\n",
              "    </tr>\n",
              "    <tr>\n",
              "      <th>2998</th>\n",
              "      <td>Nuno Tavares</td>\n",
              "      <td>20</td>\n",
              "      <td>LB</td>\n",
              "      <td>73</td>\n",
              "      <td>86</td>\n",
              "      <td>SL Benfica</td>\n",
              "      <td>7000</td>\n",
              "      <td>1900</td>\n",
              "    </tr>\n",
              "    <tr>\n",
              "      <th>2999</th>\n",
              "      <td>M. Kudus</td>\n",
              "      <td>19</td>\n",
              "      <td>CAM</td>\n",
              "      <td>77</td>\n",
              "      <td>87</td>\n",
              "      <td>Ajax</td>\n",
              "      <td>10000</td>\n",
              "      <td>2015</td>\n",
              "    </tr>\n",
              "  </tbody>\n",
              "</table>\n",
              "<p>3000 rows × 8 columns</p>\n",
              "</div>"
            ],
            "text/plain": [
              "                 Nome  Idade Posicao  ...             Time  Salario Total_Pontos\n",
              "0            V. Thill     20      RW  ...      CD Nacional     2000         1551\n",
              "1      S. Wamangituka     20      RM  ...    VfB Stuttgart    13000         1847\n",
              "2          14 A. Wolf     31      CB  ...        AS Monaco    30000         1621\n",
              "3       N. De la Cruz     23      CM  ...      River Plate    17000         2180\n",
              "4                Isco     28     CAM  ...      Real Madrid   190000         2077\n",
              "...               ...    ...     ...  ...              ...      ...          ...\n",
              "2995        T. Souček     25     CDM  ...  West Ham United    46000         2075\n",
              "2996       Rúben Dias     23      CB  ...  Manchester City   110000         1777\n",
              "2997         P. Foden     20     CAM  ...  Manchester City    95000         1997\n",
              "2998     Nuno Tavares     20      LB  ...       SL Benfica     7000         1900\n",
              "2999         M. Kudus     19     CAM  ...             Ajax    10000         2015\n",
              "\n",
              "[3000 rows x 8 columns]"
            ]
          },
          "metadata": {
            "tags": []
          },
          "execution_count": 42
        }
      ]
    },
    {
      "cell_type": "code",
      "metadata": {
        "id": "Nd5oCUlC0N8m"
      },
      "source": [
        "# Transformando a coluna salario em inteiro\r\n",
        "dados['Salario'] = dados['Salario'].astype(str).astype(int)"
      ],
      "execution_count": 44,
      "outputs": []
    },
    {
      "cell_type": "code",
      "metadata": {
        "colab": {
          "base_uri": "https://localhost:8080/"
        },
        "id": "bMnBsEAa0fJI",
        "outputId": "896ebae3-9b4e-4619-ae12-2b24ecac289e"
      },
      "source": [
        "dados.info()"
      ],
      "execution_count": 52,
      "outputs": [
        {
          "output_type": "stream",
          "text": [
            "<class 'pandas.core.frame.DataFrame'>\n",
            "Int64Index: 120 entries, 0 to 119\n",
            "Data columns (total 8 columns):\n",
            " #   Column        Non-Null Count  Dtype \n",
            "---  ------        --------------  ----- \n",
            " 0   Nome          120 non-null    object\n",
            " 1   Idade         120 non-null    int64 \n",
            " 2   Posicao       120 non-null    object\n",
            " 3   Media         120 non-null    int64 \n",
            " 4   Potencial     120 non-null    int64 \n",
            " 5   Time          120 non-null    object\n",
            " 6   Salario       120 non-null    int64 \n",
            " 7   Total_Pontos  120 non-null    int64 \n",
            "dtypes: int64(5), object(3)\n",
            "memory usage: 8.4+ KB\n"
          ],
          "name": "stdout"
        }
      ]
    },
    {
      "cell_type": "code",
      "metadata": {
        "colab": {
          "base_uri": "https://localhost:8080/",
          "height": 204
        },
        "id": "gjZll4G70yhJ",
        "outputId": "7d4dae5d-8003-4312-dbd4-dc6d97754820"
      },
      "source": [
        "# Fizemos isso para conseguir análisar os salários\r\n",
        "dados.describe().T"
      ],
      "execution_count": 50,
      "outputs": [
        {
          "output_type": "execute_result",
          "data": {
            "text/html": [
              "<div>\n",
              "<style scoped>\n",
              "    .dataframe tbody tr th:only-of-type {\n",
              "        vertical-align: middle;\n",
              "    }\n",
              "\n",
              "    .dataframe tbody tr th {\n",
              "        vertical-align: top;\n",
              "    }\n",
              "\n",
              "    .dataframe thead th {\n",
              "        text-align: right;\n",
              "    }\n",
              "</style>\n",
              "<table border=\"1\" class=\"dataframe\">\n",
              "  <thead>\n",
              "    <tr style=\"text-align: right;\">\n",
              "      <th></th>\n",
              "      <th>count</th>\n",
              "      <th>mean</th>\n",
              "      <th>std</th>\n",
              "      <th>min</th>\n",
              "      <th>25%</th>\n",
              "      <th>50%</th>\n",
              "      <th>75%</th>\n",
              "      <th>max</th>\n",
              "    </tr>\n",
              "  </thead>\n",
              "  <tbody>\n",
              "    <tr>\n",
              "      <th>Idade</th>\n",
              "      <td>3000.0</td>\n",
              "      <td>20.876000</td>\n",
              "      <td>4.418499</td>\n",
              "      <td>16.0</td>\n",
              "      <td>18.0</td>\n",
              "      <td>20.0</td>\n",
              "      <td>22.0</td>\n",
              "      <td>35.0</td>\n",
              "    </tr>\n",
              "    <tr>\n",
              "      <th>Media</th>\n",
              "      <td>3000.0</td>\n",
              "      <td>75.566333</td>\n",
              "      <td>6.156317</td>\n",
              "      <td>59.0</td>\n",
              "      <td>73.0</td>\n",
              "      <td>75.0</td>\n",
              "      <td>79.0</td>\n",
              "      <td>93.0</td>\n",
              "    </tr>\n",
              "    <tr>\n",
              "      <th>Potencial</th>\n",
              "      <td>3000.0</td>\n",
              "      <td>85.866333</td>\n",
              "      <td>3.824048</td>\n",
              "      <td>73.0</td>\n",
              "      <td>85.0</td>\n",
              "      <td>87.0</td>\n",
              "      <td>88.0</td>\n",
              "      <td>95.0</td>\n",
              "    </tr>\n",
              "    <tr>\n",
              "      <th>Salario</th>\n",
              "      <td>3000.0</td>\n",
              "      <td>44421.150000</td>\n",
              "      <td>85285.790213</td>\n",
              "      <td>500.0</td>\n",
              "      <td>6000.0</td>\n",
              "      <td>17000.0</td>\n",
              "      <td>44000.0</td>\n",
              "      <td>560000.0</td>\n",
              "    </tr>\n",
              "    <tr>\n",
              "      <th>Total_Pontos</th>\n",
              "      <td>3000.0</td>\n",
              "      <td>1865.330333</td>\n",
              "      <td>212.553726</td>\n",
              "      <td>911.0</td>\n",
              "      <td>1750.0</td>\n",
              "      <td>1900.0</td>\n",
              "      <td>2014.0</td>\n",
              "      <td>2336.0</td>\n",
              "    </tr>\n",
              "  </tbody>\n",
              "</table>\n",
              "</div>"
            ],
            "text/plain": [
              "               count          mean           std  ...      50%      75%       max\n",
              "Idade         3000.0     20.876000      4.418499  ...     20.0     22.0      35.0\n",
              "Media         3000.0     75.566333      6.156317  ...     75.0     79.0      93.0\n",
              "Potencial     3000.0     85.866333      3.824048  ...     87.0     88.0      95.0\n",
              "Salario       3000.0  44421.150000  85285.790213  ...  17000.0  44000.0  560000.0\n",
              "Total_Pontos  3000.0   1865.330333    212.553726  ...   1900.0   2014.0    2336.0\n",
              "\n",
              "[5 rows x 8 columns]"
            ]
          },
          "metadata": {
            "tags": []
          },
          "execution_count": 50
        }
      ]
    },
    {
      "cell_type": "code",
      "metadata": {
        "id": "Bc-epZT72UHF"
      },
      "source": [
        "# Apagar todos os dados repetidos\r\n",
        "dados.drop_duplicates(inplace=True)"
      ],
      "execution_count": 51,
      "outputs": []
    },
    {
      "cell_type": "markdown",
      "metadata": {
        "id": "1r1rXRdc1h8l"
      },
      "source": [
        "# **Responder algumas perguntas**"
      ]
    },
    {
      "cell_type": "markdown",
      "metadata": {
        "id": "bole24-o1zLO"
      },
      "source": [
        "Quem é o jogador mais novo? E quem é o mais velho?"
      ]
    },
    {
      "cell_type": "code",
      "metadata": {
        "colab": {
          "base_uri": "https://localhost:8080/"
        },
        "id": "E0txxM_E1R4l",
        "outputId": "759e450b-1eee-49ff-9c2b-63b13953a18a"
      },
      "source": [
        "dados['Idade'].min()"
      ],
      "execution_count": 48,
      "outputs": [
        {
          "output_type": "execute_result",
          "data": {
            "text/plain": [
              "16"
            ]
          },
          "metadata": {
            "tags": []
          },
          "execution_count": 48
        }
      ]
    },
    {
      "cell_type": "code",
      "metadata": {
        "colab": {
          "base_uri": "https://localhost:8080/",
          "height": 80
        },
        "id": "WmBZedRH1-nd",
        "outputId": "2cafb977-8823-4a14-d604-438a3424acb7"
      },
      "source": [
        "dados[dados['Idade'] == 16]"
      ],
      "execution_count": 53,
      "outputs": [
        {
          "output_type": "execute_result",
          "data": {
            "text/html": [
              "<div>\n",
              "<style scoped>\n",
              "    .dataframe tbody tr th:only-of-type {\n",
              "        vertical-align: middle;\n",
              "    }\n",
              "\n",
              "    .dataframe tbody tr th {\n",
              "        vertical-align: top;\n",
              "    }\n",
              "\n",
              "    .dataframe thead th {\n",
              "        text-align: right;\n",
              "    }\n",
              "</style>\n",
              "<table border=\"1\" class=\"dataframe\">\n",
              "  <thead>\n",
              "    <tr style=\"text-align: right;\">\n",
              "      <th></th>\n",
              "      <th>Nome</th>\n",
              "      <th>Idade</th>\n",
              "      <th>Posicao</th>\n",
              "      <th>Media</th>\n",
              "      <th>Potencial</th>\n",
              "      <th>Time</th>\n",
              "      <th>Salario</th>\n",
              "      <th>Total_Pontos</th>\n",
              "    </tr>\n",
              "  </thead>\n",
              "  <tbody>\n",
              "    <tr>\n",
              "      <th>11</th>\n",
              "      <td>R. Cherki</td>\n",
              "      <td>16</td>\n",
              "      <td>RW</td>\n",
              "      <td>69</td>\n",
              "      <td>88</td>\n",
              "      <td>Olympique Lyonnais</td>\n",
              "      <td>6000</td>\n",
              "      <td>1623</td>\n",
              "    </tr>\n",
              "  </tbody>\n",
              "</table>\n",
              "</div>"
            ],
            "text/plain": [
              "          Nome  Idade Posicao  ...                Time  Salario Total_Pontos\n",
              "11   R. Cherki     16      RW  ...  Olympique Lyonnais     6000         1623\n",
              "\n",
              "[1 rows x 8 columns]"
            ]
          },
          "metadata": {
            "tags": []
          },
          "execution_count": 53
        }
      ]
    },
    {
      "cell_type": "code",
      "metadata": {
        "colab": {
          "base_uri": "https://localhost:8080/"
        },
        "id": "cxsCznAZ3FtW",
        "outputId": "07a307f1-c1e9-4d93-f034-19e2119b56ed"
      },
      "source": [
        "dados['Idade'].max()"
      ],
      "execution_count": 55,
      "outputs": [
        {
          "output_type": "execute_result",
          "data": {
            "text/plain": [
              "35"
            ]
          },
          "metadata": {
            "tags": []
          },
          "execution_count": 55
        }
      ]
    },
    {
      "cell_type": "code",
      "metadata": {
        "colab": {
          "base_uri": "https://localhost:8080/",
          "height": 80
        },
        "id": "9zeWVO7T3OVV",
        "outputId": "be2e95f1-7563-4f43-d34a-fc0c65efe664"
      },
      "source": [
        "dados[dados['Idade'] == 35]"
      ],
      "execution_count": 56,
      "outputs": [
        {
          "output_type": "execute_result",
          "data": {
            "text/html": [
              "<div>\n",
              "<style scoped>\n",
              "    .dataframe tbody tr th:only-of-type {\n",
              "        vertical-align: middle;\n",
              "    }\n",
              "\n",
              "    .dataframe tbody tr th {\n",
              "        vertical-align: top;\n",
              "    }\n",
              "\n",
              "    .dataframe thead th {\n",
              "        text-align: right;\n",
              "    }\n",
              "</style>\n",
              "<table border=\"1\" class=\"dataframe\">\n",
              "  <thead>\n",
              "    <tr style=\"text-align: right;\">\n",
              "      <th></th>\n",
              "      <th>Nome</th>\n",
              "      <th>Idade</th>\n",
              "      <th>Posicao</th>\n",
              "      <th>Media</th>\n",
              "      <th>Potencial</th>\n",
              "      <th>Time</th>\n",
              "      <th>Salario</th>\n",
              "      <th>Total_Pontos</th>\n",
              "    </tr>\n",
              "  </thead>\n",
              "  <tbody>\n",
              "    <tr>\n",
              "      <th>47</th>\n",
              "      <td>Cristiano Ronaldo</td>\n",
              "      <td>35</td>\n",
              "      <td>ST</td>\n",
              "      <td>92</td>\n",
              "      <td>92</td>\n",
              "      <td>Juventus</td>\n",
              "      <td>220000</td>\n",
              "      <td>2221</td>\n",
              "    </tr>\n",
              "  </tbody>\n",
              "</table>\n",
              "</div>"
            ],
            "text/plain": [
              "                  Nome  Idade Posicao  ...      Time  Salario Total_Pontos\n",
              "47   Cristiano Ronaldo     35      ST  ...  Juventus   220000         2221\n",
              "\n",
              "[1 rows x 8 columns]"
            ]
          },
          "metadata": {
            "tags": []
          },
          "execution_count": 56
        }
      ]
    },
    {
      "cell_type": "markdown",
      "metadata": {
        "id": "OpNQlSPg3AF0"
      },
      "source": [
        "Qual o jogador tem mais pontos no ranking?\r\n"
      ]
    },
    {
      "cell_type": "code",
      "metadata": {
        "colab": {
          "base_uri": "https://localhost:8080/"
        },
        "id": "rD_yp3KT2KSU",
        "outputId": "a4f71d88-f4ac-435b-e81f-a513b1c0a057"
      },
      "source": [
        "dados['Total_Pontos'].max()"
      ],
      "execution_count": 57,
      "outputs": [
        {
          "output_type": "execute_result",
          "data": {
            "text/plain": [
              "2336"
            ]
          },
          "metadata": {
            "tags": []
          },
          "execution_count": 57
        }
      ]
    },
    {
      "cell_type": "code",
      "metadata": {
        "colab": {
          "base_uri": "https://localhost:8080/",
          "height": 80
        },
        "id": "ftP7oZqg3l_v",
        "outputId": "1b4a9f31-d20c-4887-a307-6e415afa23ee"
      },
      "source": [
        "dados[dados['Total_Pontos'] == 2336]"
      ],
      "execution_count": 58,
      "outputs": [
        {
          "output_type": "execute_result",
          "data": {
            "text/html": [
              "<div>\n",
              "<style scoped>\n",
              "    .dataframe tbody tr th:only-of-type {\n",
              "        vertical-align: middle;\n",
              "    }\n",
              "\n",
              "    .dataframe tbody tr th {\n",
              "        vertical-align: top;\n",
              "    }\n",
              "\n",
              "    .dataframe thead th {\n",
              "        text-align: right;\n",
              "    }\n",
              "</style>\n",
              "<table border=\"1\" class=\"dataframe\">\n",
              "  <thead>\n",
              "    <tr style=\"text-align: right;\">\n",
              "      <th></th>\n",
              "      <th>Nome</th>\n",
              "      <th>Idade</th>\n",
              "      <th>Posicao</th>\n",
              "      <th>Media</th>\n",
              "      <th>Potencial</th>\n",
              "      <th>Time</th>\n",
              "      <th>Salario</th>\n",
              "      <th>Total_Pontos</th>\n",
              "    </tr>\n",
              "  </thead>\n",
              "  <tbody>\n",
              "    <tr>\n",
              "      <th>73</th>\n",
              "      <td>Bruno Fernandes</td>\n",
              "      <td>25</td>\n",
              "      <td>CAM</td>\n",
              "      <td>88</td>\n",
              "      <td>91</td>\n",
              "      <td>Manchester United</td>\n",
              "      <td>240000</td>\n",
              "      <td>2336</td>\n",
              "    </tr>\n",
              "  </tbody>\n",
              "</table>\n",
              "</div>"
            ],
            "text/plain": [
              "                Nome  Idade Posicao  ...               Time  Salario Total_Pontos\n",
              "73   Bruno Fernandes     25     CAM  ...  Manchester United   240000         2336\n",
              "\n",
              "[1 rows x 8 columns]"
            ]
          },
          "metadata": {
            "tags": []
          },
          "execution_count": 58
        }
      ]
    },
    {
      "cell_type": "code",
      "metadata": {
        "colab": {
          "base_uri": "https://localhost:8080/"
        },
        "id": "fBV-89Nc3uHg",
        "outputId": "c0592395-fc3a-4d6e-9abc-6755bb2b486d"
      },
      "source": [
        "dados[dados['Total_Pontos']==dados['Total_Pontos'].max()]['Nome']"
      ],
      "execution_count": 60,
      "outputs": [
        {
          "output_type": "execute_result",
          "data": {
            "text/plain": [
              "73     Bruno Fernandes\n",
              "Name: Nome, dtype: object"
            ]
          },
          "metadata": {
            "tags": []
          },
          "execution_count": 60
        }
      ]
    },
    {
      "cell_type": "markdown",
      "metadata": {
        "id": "6XbbIAd34YBS"
      },
      "source": [
        "Qual posição mais comum dos jogadores nos nossos dados?"
      ]
    },
    {
      "cell_type": "code",
      "metadata": {
        "colab": {
          "base_uri": "https://localhost:8080/"
        },
        "id": "YLY5TsrZ4O_E",
        "outputId": "e9c09e39-742b-42d5-dcd1-d8e6d610f26c"
      },
      "source": [
        "dados['Posicao'].value_counts()"
      ],
      "execution_count": 61,
      "outputs": [
        {
          "output_type": "execute_result",
          "data": {
            "text/plain": [
              "ST     21\n",
              "CAM    18\n",
              "CB     17\n",
              "RW     13\n",
              "CM     10\n",
              "RM     10\n",
              "LW      8\n",
              "RB      6\n",
              "CDM     6\n",
              "LM      5\n",
              "LB      3\n",
              "CF      1\n",
              "RWB     1\n",
              "GK      1\n",
              "Name: Posicao, dtype: int64"
            ]
          },
          "metadata": {
            "tags": []
          },
          "execution_count": 61
        }
      ]
    },
    {
      "cell_type": "markdown",
      "metadata": {
        "id": "lHXX3nLv4vAF"
      },
      "source": [
        "Qual o time que mais aparece nos dados?"
      ]
    },
    {
      "cell_type": "code",
      "metadata": {
        "colab": {
          "base_uri": "https://localhost:8080/"
        },
        "id": "A-uQlLjN4rSw",
        "outputId": "b9a0a087-ae34-4a1c-f8ea-4ecf01e2bed7"
      },
      "source": [
        "dados['Time'].value_counts().head()"
      ],
      "execution_count": 63,
      "outputs": [
        {
          "output_type": "execute_result",
          "data": {
            "text/plain": [
              "FC Barcelona         10\n",
              "Manchester United     7\n",
              "Chelsea               6\n",
              "FC Bayern München     5\n",
              "Ajax                  5\n",
              "Name: Time, dtype: int64"
            ]
          },
          "metadata": {
            "tags": []
          },
          "execution_count": 63
        }
      ]
    },
    {
      "cell_type": "markdown",
      "metadata": {
        "id": "o2H584lM5BUV"
      },
      "source": [
        "Qual a pontuação mais alta (coluna media)? E a mais baixa?"
      ]
    },
    {
      "cell_type": "code",
      "metadata": {
        "colab": {
          "base_uri": "https://localhost:8080/"
        },
        "id": "FKckfD2P47kZ",
        "outputId": "f0809ff9-8c25-4b7f-bde7-a3e7301e5459"
      },
      "source": [
        "dados['Media'].max()"
      ],
      "execution_count": 64,
      "outputs": [
        {
          "output_type": "execute_result",
          "data": {
            "text/plain": [
              "93"
            ]
          },
          "metadata": {
            "tags": []
          },
          "execution_count": 64
        }
      ]
    },
    {
      "cell_type": "code",
      "metadata": {
        "colab": {
          "base_uri": "https://localhost:8080/"
        },
        "id": "10Q3KZ-N5QNM",
        "outputId": "5b231f6e-5b92-44f3-8ea8-18d132a96258"
      },
      "source": [
        "dados['Media'].min()"
      ],
      "execution_count": 65,
      "outputs": [
        {
          "output_type": "execute_result",
          "data": {
            "text/plain": [
              "59"
            ]
          },
          "metadata": {
            "tags": []
          },
          "execution_count": 65
        }
      ]
    },
    {
      "cell_type": "markdown",
      "metadata": {
        "id": "zRD7JJKB5Y6W"
      },
      "source": [
        "Quem tem o maior e menor salário?"
      ]
    },
    {
      "cell_type": "code",
      "metadata": {
        "colab": {
          "base_uri": "https://localhost:8080/"
        },
        "id": "S_u0vkTn5VT4",
        "outputId": "39ecd819-6b38-43cb-854b-a867a9c064bb"
      },
      "source": [
        "dados['Salario'].max()"
      ],
      "execution_count": 66,
      "outputs": [
        {
          "output_type": "execute_result",
          "data": {
            "text/plain": [
              "560000"
            ]
          },
          "metadata": {
            "tags": []
          },
          "execution_count": 66
        }
      ]
    },
    {
      "cell_type": "code",
      "metadata": {
        "colab": {
          "base_uri": "https://localhost:8080/"
        },
        "id": "_IX6zGf_5w04",
        "outputId": "443b4e72-4534-40b8-8ba6-57fdb3a42c0d"
      },
      "source": [
        "dados['Salario'].min()"
      ],
      "execution_count": 68,
      "outputs": [
        {
          "output_type": "execute_result",
          "data": {
            "text/plain": [
              "500"
            ]
          },
          "metadata": {
            "tags": []
          },
          "execution_count": 68
        }
      ]
    },
    {
      "cell_type": "code",
      "metadata": {
        "colab": {
          "base_uri": "https://localhost:8080/"
        },
        "id": "TJfPFjI85kc_",
        "outputId": "7e0a5033-6e45-4d6d-d3a5-b480e56c813c"
      },
      "source": [
        "dados[dados['Salario'] == dados['Salario'].max()]['Nome']"
      ],
      "execution_count": 70,
      "outputs": [
        {
          "output_type": "execute_result",
          "data": {
            "text/plain": [
              "32     L. Messi\n",
              "Name: Nome, dtype: object"
            ]
          },
          "metadata": {
            "tags": []
          },
          "execution_count": 70
        }
      ]
    },
    {
      "cell_type": "code",
      "metadata": {
        "colab": {
          "base_uri": "https://localhost:8080/"
        },
        "id": "Io7jiA1h5uh4",
        "outputId": "ffcad0d0-1f46-4bbd-9cc7-d8f6fe538d2c"
      },
      "source": [
        "dados[dados['Salario'] == dados['Salario'].min()]['Nome']"
      ],
      "execution_count": 71,
      "outputs": [
        {
          "output_type": "execute_result",
          "data": {
            "text/plain": [
              "25       J. Gvardiol\n",
              "39         A. Hložek\n",
              "54          R. Jones\n",
              "62         C. Tzolis\n",
              "110     B. Arrey-Mbi\n",
              "Name: Nome, dtype: object"
            ]
          },
          "metadata": {
            "tags": []
          },
          "execution_count": 71
        }
      ]
    },
    {
      "cell_type": "markdown",
      "metadata": {
        "id": "ECDvozaJ6cgK"
      },
      "source": [
        "Qual o salário do jogador M. Ødegaard?"
      ]
    },
    {
      "cell_type": "code",
      "metadata": {
        "colab": {
          "base_uri": "https://localhost:8080/"
        },
        "id": "qJugWBB951zQ",
        "outputId": "dfd4b1c6-ea5c-4dc2-9618-f38473fb3b7e"
      },
      "source": [
        "dados[dados['Nome'] == ' M. Ødegaard']['Salario']"
      ],
      "execution_count": 72,
      "outputs": [
        {
          "output_type": "execute_result",
          "data": {
            "text/plain": [
              "61    135000\n",
              "Name: Salario, dtype: int64"
            ]
          },
          "metadata": {
            "tags": []
          },
          "execution_count": 72
        }
      ]
    },
    {
      "cell_type": "markdown",
      "metadata": {
        "id": "PHuFs4SA7OSe"
      },
      "source": [
        "Quantos times únicos existem?"
      ]
    },
    {
      "cell_type": "code",
      "metadata": {
        "colab": {
          "base_uri": "https://localhost:8080/"
        },
        "id": "vnT3BbYX7nKZ",
        "outputId": "62144161-3788-49ad-bce7-d6384e88d905"
      },
      "source": [
        "dados['Time'].nunique()"
      ],
      "execution_count": 73,
      "outputs": [
        {
          "output_type": "execute_result",
          "data": {
            "text/plain": [
              "64"
            ]
          },
          "metadata": {
            "tags": []
          },
          "execution_count": 73
        }
      ]
    },
    {
      "cell_type": "markdown",
      "metadata": {
        "id": "_OZsO1ph7PPY"
      },
      "source": [
        "Quantos jogadores ganham mais de 100mil de salário?"
      ]
    },
    {
      "cell_type": "code",
      "metadata": {
        "id": "q_ez-B7I77Av"
      },
      "source": [
        "salario_maior_que_100k = dados[dados['Salario'] >= 100000]"
      ],
      "execution_count": 106,
      "outputs": []
    },
    {
      "cell_type": "code",
      "metadata": {
        "colab": {
          "base_uri": "https://localhost:8080/"
        },
        "id": "OP2SoVCTBClw",
        "outputId": "0c4e320c-3fab-4941-f857-1bb485ea00e2"
      },
      "source": [
        "salario_maior_que_100k['Nome'].nunique()"
      ],
      "execution_count": 107,
      "outputs": [
        {
          "output_type": "execute_result",
          "data": {
            "text/plain": [
              "17"
            ]
          },
          "metadata": {
            "tags": []
          },
          "execution_count": 107
        }
      ]
    },
    {
      "cell_type": "markdown",
      "metadata": {
        "id": "CN9MQtuC7Pm5"
      },
      "source": [
        "Qual a média salarial dos 5 clubes mais comuns?"
      ]
    },
    {
      "cell_type": "code",
      "metadata": {
        "colab": {
          "base_uri": "https://localhost:8080/"
        },
        "id": "DSB044EH7FpA",
        "outputId": "d26c7afa-cb0a-4328-f304-5c13b81c5e76"
      },
      "source": [
        "dados[dados['Time'] == 'FC Barcelona']['Salario'].mean()"
      ],
      "execution_count": 110,
      "outputs": [
        {
          "output_type": "execute_result",
          "data": {
            "text/plain": [
              "134900.0"
            ]
          },
          "metadata": {
            "tags": []
          },
          "execution_count": 110
        }
      ]
    },
    {
      "cell_type": "code",
      "metadata": {
        "colab": {
          "base_uri": "https://localhost:8080/"
        },
        "id": "Qqu7YWN5_W66",
        "outputId": "de951e91-eb56-4cf5-9d27-1aaefc080691"
      },
      "source": [
        "dados[dados['Time'] == 'Manchester United']['Salario'].mean()"
      ],
      "execution_count": 111,
      "outputs": [
        {
          "output_type": "execute_result",
          "data": {
            "text/plain": [
              "83142.85714285714"
            ]
          },
          "metadata": {
            "tags": []
          },
          "execution_count": 111
        }
      ]
    },
    {
      "cell_type": "code",
      "metadata": {
        "colab": {
          "base_uri": "https://localhost:8080/"
        },
        "id": "adFEEyexCGqm",
        "outputId": "f0357004-c5b9-4e44-9602-199ff40daa30"
      },
      "source": [
        "dados[dados['Time'] == 'Chelsea']['Salario'].mean()"
      ],
      "execution_count": 112,
      "outputs": [
        {
          "output_type": "execute_result",
          "data": {
            "text/plain": [
              "78333.33333333333"
            ]
          },
          "metadata": {
            "tags": []
          },
          "execution_count": 112
        }
      ]
    },
    {
      "cell_type": "code",
      "metadata": {
        "colab": {
          "base_uri": "https://localhost:8080/"
        },
        "id": "2JAxqIpTCJOg",
        "outputId": "c261eb54-a68c-4f38-af3b-0e8c95bc5f9a"
      },
      "source": [
        "dados[dados['Time'] == 'FC Bayern München']['Salario'].mean()"
      ],
      "execution_count": 113,
      "outputs": [
        {
          "output_type": "execute_result",
          "data": {
            "text/plain": [
              "94600.0"
            ]
          },
          "metadata": {
            "tags": []
          },
          "execution_count": 113
        }
      ]
    },
    {
      "cell_type": "code",
      "metadata": {
        "colab": {
          "base_uri": "https://localhost:8080/"
        },
        "id": "10d0X1zBCKyw",
        "outputId": "53d75224-37c2-4201-e5cd-4d154d5ccbdb"
      },
      "source": [
        "dados[dados['Time'] == 'Ajax']['Salario'].mean()"
      ],
      "execution_count": 114,
      "outputs": [
        {
          "output_type": "execute_result",
          "data": {
            "text/plain": [
              "11800.0"
            ]
          },
          "metadata": {
            "tags": []
          },
          "execution_count": 114
        }
      ]
    },
    {
      "cell_type": "code",
      "metadata": {
        "id": "mMW0_9ZQCLpQ"
      },
      "source": [
        "dados.to_csv('sds.fifa_atualizado.csv')"
      ],
      "execution_count": 116,
      "outputs": []
    },
    {
      "cell_type": "code",
      "metadata": {
        "id": "2d1bi7qMCWgK"
      },
      "source": [
        ""
      ],
      "execution_count": null,
      "outputs": []
    }
  ]
}